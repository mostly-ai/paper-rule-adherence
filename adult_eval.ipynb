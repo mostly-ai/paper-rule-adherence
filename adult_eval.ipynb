{
 "cells": [
  {
   "cell_type": "code",
   "execution_count": 14,
   "id": "5b4321c9-19bf-4bd7-afe4-f425792b0132",
   "metadata": {},
   "outputs": [],
   "source": [
    "import pandas as pd\n",
    "import sklearn\n",
    "import plotly.graph_objs as go"
   ]
  },
  {
   "cell_type": "code",
   "execution_count": 15,
   "id": "8adf77df-9a60-48f9-a180-367a995c9e7a",
   "metadata": {},
   "outputs": [],
   "source": [
    "hol = pd.read_csv('adult_original_holdout.csv.gz')\n",
    "trn = pd.read_csv('adult_original_2k.csv.gz')\n",
    "syn = pd.read_csv('adult_synthetic.csv.gz')\n",
    "syn_trn = pd.read_csv('adult_synthetic.csv.gz') # FIXME\n",
    "syn_gen = pd.read_csv('adult_synthetic.csv.gz') # FIXME"
   ]
  },
  {
   "cell_type": "markdown",
   "id": "b17b675d-17db-4ff1-aa32-24920f221c9c",
   "metadata": {},
   "source": [
    "### ML Performance"
   ]
  },
  {
   "cell_type": "code",
   "execution_count": 16,
   "id": "6d8122fa-cb98-4107-8909-5a28ca951062",
   "metadata": {},
   "outputs": [],
   "source": [
    "# benchmark GBM for `trn` vs `syn`, evaluated on `hol`"
   ]
  },
  {
   "cell_type": "markdown",
   "id": "104c3024-035f-471b-a2db-9fbdd55ac87b",
   "metadata": {},
   "source": [
    "### Descriptive Statistics"
   ]
  },
  {
   "cell_type": "markdown",
   "id": "eb78936b-0074-4e71-827e-8faba7122383",
   "metadata": {},
   "source": [
    "#### relationship ~ sex"
   ]
  },
  {
   "cell_type": "code",
   "execution_count": 5,
   "id": "eefe248f-f42a-42f1-b59c-0bd7bd0dee12",
   "metadata": {},
   "outputs": [
    {
     "data": {
      "application/vnd.plotly.v1+json": {
       "config": {
        "plotlyServerURL": "https://plot.ly"
       },
       "data": [
        {
         "colorscale": [
          [
           0,
           "white"
          ],
          [
           0.3333333333333333,
           "#A7A7A7"
          ],
          [
           0.6666666666666666,
           "#7B7B7B"
          ],
          [
           1,
           "#666666"
          ]
         ],
         "showscale": false,
         "text": [
          24,
          16,
          4,
          31,
          22,
          7,
          3,
          303,
          280,
          70,
          33,
          11,
          10,
          4,
          1,
          806,
          82,
          9,
          8,
          2,
          173,
          77,
          15,
          9
         ],
         "textfont": {
          "size": 10
         },
         "texttemplate": "%{text}",
         "type": "heatmap",
         "x": [
          "Not-in-family",
          "Unmarried",
          "Other-relative",
          "Unmarried",
          "Not-in-family",
          "Own-child",
          "Other-relative",
          "Not-in-family",
          "Own-child",
          "Unmarried",
          "Other-relative",
          "Not-in-family",
          "Unmarried",
          "Own-child",
          "Other-relative",
          "Husband",
          "Wife",
          "Own-child",
          "Other-relative",
          "Not-in-family",
          "Not-in-family",
          "Unmarried",
          "Own-child",
          "Other-relative"
         ],
         "xaxis": "x",
         "y": [
          "Widowed",
          "Widowed",
          "Widowed",
          "Separated",
          "Separated",
          "Separated",
          "Separated",
          "Never-married",
          "Never-married",
          "Never-married",
          "Never-married",
          "Married-spouse-absent",
          "Married-spouse-absent",
          "Married-spouse-absent",
          "Married-spouse-absent",
          "Married-civ-spouse",
          "Married-civ-spouse",
          "Married-civ-spouse",
          "Married-civ-spouse",
          "Married-civ-spouse",
          "Divorced",
          "Divorced",
          "Divorced",
          "Divorced"
         ],
         "yaxis": "y",
         "z": [
          0.5454545454545454,
          0.36363636363636365,
          0.09090909090909091,
          0.49206349206349204,
          0.3492063492063492,
          0.1111111111111111,
          0.047619047619047616,
          0.44169096209912534,
          0.40816326530612246,
          0.10204081632653061,
          0.048104956268221574,
          0.4230769230769231,
          0.38461538461538464,
          0.15384615384615385,
          0.038461538461538464,
          0.8886438809261301,
          0.09040793825799338,
          0.009922822491730982,
          0.008820286659316428,
          0.002205071664829107,
          0.6313868613138686,
          0.28102189781021897,
          0.05474452554744526,
          0.032846715328467155
         ],
         "zmax": 1,
         "zmin": 0
        },
        {
         "colorscale": [
          [
           0,
           "white"
          ],
          [
           0.3333333333333333,
           "#A7A7A7"
          ],
          [
           0.6666666666666666,
           "#7B7B7B"
          ],
          [
           1,
           "#666666"
          ]
         ],
         "showscale": false,
         "text": [
          1180,
          1027,
          90,
          32,
          2,
          1431,
          1017,
          392,
          196,
          9,
          14454,
          13291,
          4052,
          1698,
          9,
          8,
          554,
          453,
          159,
          79,
          5,
          2,
          40247,
          4266,
          230,
          192,
          81,
          52,
          8594,
          4569,
          1062,
          537,
          27,
          3
         ],
         "textfont": {
          "size": 10
         },
         "texttemplate": "%{text}",
         "type": "heatmap",
         "x": [
          "Not-in-family",
          "Unmarried",
          "Other-relative",
          "Own-child",
          "Husband",
          "Not-in-family",
          "Unmarried",
          "Own-child",
          "Other-relative",
          "Husband",
          "Own-child",
          "Not-in-family",
          "Unmarried",
          "Other-relative",
          "Wife",
          "Husband",
          "Not-in-family",
          "Unmarried",
          "Own-child",
          "Other-relative",
          "Husband",
          "Wife",
          "Husband",
          "Wife",
          "Own-child",
          "Other-relative",
          "Not-in-family",
          "Unmarried",
          "Not-in-family",
          "Unmarried",
          "Own-child",
          "Other-relative",
          "Husband",
          "Wife"
         ],
         "xaxis": "x2",
         "y": [
          "Widowed",
          "Widowed",
          "Widowed",
          "Widowed",
          "Widowed",
          "Separated",
          "Separated",
          "Separated",
          "Separated",
          "Separated",
          "Never-married",
          "Never-married",
          "Never-married",
          "Never-married",
          "Never-married",
          "Never-married",
          "Married-spouse-absent",
          "Married-spouse-absent",
          "Married-spouse-absent",
          "Married-spouse-absent",
          "Married-spouse-absent",
          "Married-spouse-absent",
          "Married-civ-spouse",
          "Married-civ-spouse",
          "Married-civ-spouse",
          "Married-civ-spouse",
          "Married-civ-spouse",
          "Married-civ-spouse",
          "Divorced",
          "Divorced",
          "Divorced",
          "Divorced",
          "Divorced",
          "Divorced"
         ],
         "yaxis": "y2",
         "z": [
          0.5062205062205062,
          0.44058344058344057,
          0.03861003861003861,
          0.013728013728013728,
          0.000858000858000858,
          0.46995073891625616,
          0.33399014778325126,
          0.12873563218390804,
          0.06436781609195402,
          0.002955665024630542,
          0.43130818811172117,
          0.39660420148006686,
          0.12091191215087133,
          0.05066841728336118,
          0.00026856051563619004,
          0.00023872045834328001,
          0.4424920127795527,
          0.36182108626198084,
          0.1269968051118211,
          0.06309904153354633,
          0.003993610223642172,
          0.001597444089456869,
          0.8930283127718115,
          0.09465696281175114,
          0.00510339930771279,
          0.004260228987308068,
          0.001797284104020591,
          0.001153812017395935,
          0.5809897241752299,
          0.30888318009734994,
          0.07179556517036235,
          0.03630340724716063,
          0.0018253109789075177,
          0.00020281233098972418
         ],
         "zmax": 1,
         "zmin": 0
        },
        {
         "colorscale": [
          [
           0,
           "white"
          ],
          [
           0.3333333333333333,
           "#A7A7A7"
          ],
          [
           0.6666666666666666,
           "#7B7B7B"
          ],
          [
           1,
           "#666666"
          ]
         ],
         "showscale": false,
         "text": [
          1180,
          1027,
          90,
          32,
          2,
          1431,
          1017,
          392,
          196,
          9,
          14454,
          13291,
          4052,
          1698,
          9,
          8,
          554,
          453,
          159,
          79,
          5,
          2,
          40247,
          4266,
          230,
          192,
          81,
          52,
          8594,
          4569,
          1062,
          537,
          27,
          3
         ],
         "textfont": {
          "size": 10
         },
         "texttemplate": "%{text}",
         "type": "heatmap",
         "x": [
          "Not-in-family",
          "Unmarried",
          "Other-relative",
          "Own-child",
          "Husband",
          "Not-in-family",
          "Unmarried",
          "Own-child",
          "Other-relative",
          "Husband",
          "Own-child",
          "Not-in-family",
          "Unmarried",
          "Other-relative",
          "Wife",
          "Husband",
          "Not-in-family",
          "Unmarried",
          "Own-child",
          "Other-relative",
          "Husband",
          "Wife",
          "Husband",
          "Wife",
          "Own-child",
          "Other-relative",
          "Not-in-family",
          "Unmarried",
          "Not-in-family",
          "Unmarried",
          "Own-child",
          "Other-relative",
          "Husband",
          "Wife"
         ],
         "xaxis": "x3",
         "y": [
          "Widowed",
          "Widowed",
          "Widowed",
          "Widowed",
          "Widowed",
          "Separated",
          "Separated",
          "Separated",
          "Separated",
          "Separated",
          "Never-married",
          "Never-married",
          "Never-married",
          "Never-married",
          "Never-married",
          "Never-married",
          "Married-spouse-absent",
          "Married-spouse-absent",
          "Married-spouse-absent",
          "Married-spouse-absent",
          "Married-spouse-absent",
          "Married-spouse-absent",
          "Married-civ-spouse",
          "Married-civ-spouse",
          "Married-civ-spouse",
          "Married-civ-spouse",
          "Married-civ-spouse",
          "Married-civ-spouse",
          "Divorced",
          "Divorced",
          "Divorced",
          "Divorced",
          "Divorced",
          "Divorced"
         ],
         "yaxis": "y3",
         "z": [
          0.5062205062205062,
          0.44058344058344057,
          0.03861003861003861,
          0.013728013728013728,
          0.000858000858000858,
          0.46995073891625616,
          0.33399014778325126,
          0.12873563218390804,
          0.06436781609195402,
          0.002955665024630542,
          0.43130818811172117,
          0.39660420148006686,
          0.12091191215087133,
          0.05066841728336118,
          0.00026856051563619004,
          0.00023872045834328001,
          0.4424920127795527,
          0.36182108626198084,
          0.1269968051118211,
          0.06309904153354633,
          0.003993610223642172,
          0.001597444089456869,
          0.8930283127718115,
          0.09465696281175114,
          0.00510339930771279,
          0.004260228987308068,
          0.001797284104020591,
          0.001153812017395935,
          0.5809897241752299,
          0.30888318009734994,
          0.07179556517036235,
          0.03630340724716063,
          0.0018253109789075177,
          0.00020281233098972418
         ],
         "zmax": 1,
         "zmin": 0
        },
        {
         "colorscale": [
          [
           0,
           "white"
          ],
          [
           0.3333333333333333,
           "#A7A7A7"
          ],
          [
           0.6666666666666666,
           "#7B7B7B"
          ],
          [
           1,
           "#666666"
          ]
         ],
         "showscale": false,
         "text": [
          1180,
          1027,
          90,
          32,
          2,
          1431,
          1017,
          392,
          196,
          9,
          14454,
          13291,
          4052,
          1698,
          9,
          8,
          554,
          453,
          159,
          79,
          5,
          2,
          40247,
          4266,
          230,
          192,
          81,
          52,
          8594,
          4569,
          1062,
          537,
          27,
          3
         ],
         "textfont": {
          "size": 10
         },
         "texttemplate": "%{text}",
         "type": "heatmap",
         "x": [
          "Not-in-family",
          "Unmarried",
          "Other-relative",
          "Own-child",
          "Husband",
          "Not-in-family",
          "Unmarried",
          "Own-child",
          "Other-relative",
          "Husband",
          "Own-child",
          "Not-in-family",
          "Unmarried",
          "Other-relative",
          "Wife",
          "Husband",
          "Not-in-family",
          "Unmarried",
          "Own-child",
          "Other-relative",
          "Husband",
          "Wife",
          "Husband",
          "Wife",
          "Own-child",
          "Other-relative",
          "Not-in-family",
          "Unmarried",
          "Not-in-family",
          "Unmarried",
          "Own-child",
          "Other-relative",
          "Husband",
          "Wife"
         ],
         "xaxis": "x4",
         "y": [
          "Widowed",
          "Widowed",
          "Widowed",
          "Widowed",
          "Widowed",
          "Separated",
          "Separated",
          "Separated",
          "Separated",
          "Separated",
          "Never-married",
          "Never-married",
          "Never-married",
          "Never-married",
          "Never-married",
          "Never-married",
          "Married-spouse-absent",
          "Married-spouse-absent",
          "Married-spouse-absent",
          "Married-spouse-absent",
          "Married-spouse-absent",
          "Married-spouse-absent",
          "Married-civ-spouse",
          "Married-civ-spouse",
          "Married-civ-spouse",
          "Married-civ-spouse",
          "Married-civ-spouse",
          "Married-civ-spouse",
          "Divorced",
          "Divorced",
          "Divorced",
          "Divorced",
          "Divorced",
          "Divorced"
         ],
         "yaxis": "y4",
         "z": [
          0.5062205062205062,
          0.44058344058344057,
          0.03861003861003861,
          0.013728013728013728,
          0.000858000858000858,
          0.46995073891625616,
          0.33399014778325126,
          0.12873563218390804,
          0.06436781609195402,
          0.002955665024630542,
          0.43130818811172117,
          0.39660420148006686,
          0.12091191215087133,
          0.05066841728336118,
          0.00026856051563619004,
          0.00023872045834328001,
          0.4424920127795527,
          0.36182108626198084,
          0.1269968051118211,
          0.06309904153354633,
          0.003993610223642172,
          0.001597444089456869,
          0.8930283127718115,
          0.09465696281175114,
          0.00510339930771279,
          0.004260228987308068,
          0.001797284104020591,
          0.001153812017395935,
          0.5809897241752299,
          0.30888318009734994,
          0.07179556517036235,
          0.03630340724716063,
          0.0018253109789075177,
          0.00020281233098972418
         ],
         "zmax": 1,
         "zmin": 0
        }
       ],
       "layout": {
        "annotations": [
         {
          "font": {
           "size": 16
          },
          "showarrow": false,
          "text": "target",
          "x": 0.2375,
          "xanchor": "center",
          "xref": "paper",
          "y": 1,
          "yanchor": "bottom",
          "yref": "paper"
         },
         {
          "font": {
           "size": 16
          },
          "showarrow": false,
          "text": "synthetic w/o rules",
          "x": 0.7625,
          "xanchor": "center",
          "xref": "paper",
          "y": 1,
          "yanchor": "bottom",
          "yref": "paper"
         },
         {
          "font": {
           "size": 16
          },
          "showarrow": false,
          "text": "synthetic w/ loss component",
          "x": 0.2375,
          "xanchor": "center",
          "xref": "paper",
          "y": 0.425,
          "yanchor": "bottom",
          "yref": "paper"
         },
         {
          "font": {
           "size": 16
          },
          "showarrow": false,
          "text": "synthetic w/ rule adherence",
          "x": 0.7625,
          "xanchor": "center",
          "xref": "paper",
          "y": 0.425,
          "yanchor": "bottom",
          "yref": "paper"
         }
        ],
        "autosize": false,
        "height": 900,
        "margin": {
         "b": 10,
         "l": 10,
         "pad": 5,
         "r": 10,
         "t": 80
        },
        "plot_bgcolor": "rgba(0, 0, 0, 0)",
        "showlegend": false,
        "template": {
         "data": {
          "bar": [
           {
            "error_x": {
             "color": "#2a3f5f"
            },
            "error_y": {
             "color": "#2a3f5f"
            },
            "marker": {
             "line": {
              "color": "#E5ECF6",
              "width": 0.5
             },
             "pattern": {
              "fillmode": "overlay",
              "size": 10,
              "solidity": 0.2
             }
            },
            "type": "bar"
           }
          ],
          "barpolar": [
           {
            "marker": {
             "line": {
              "color": "#E5ECF6",
              "width": 0.5
             },
             "pattern": {
              "fillmode": "overlay",
              "size": 10,
              "solidity": 0.2
             }
            },
            "type": "barpolar"
           }
          ],
          "carpet": [
           {
            "aaxis": {
             "endlinecolor": "#2a3f5f",
             "gridcolor": "white",
             "linecolor": "white",
             "minorgridcolor": "white",
             "startlinecolor": "#2a3f5f"
            },
            "baxis": {
             "endlinecolor": "#2a3f5f",
             "gridcolor": "white",
             "linecolor": "white",
             "minorgridcolor": "white",
             "startlinecolor": "#2a3f5f"
            },
            "type": "carpet"
           }
          ],
          "choropleth": [
           {
            "colorbar": {
             "outlinewidth": 0,
             "ticks": ""
            },
            "type": "choropleth"
           }
          ],
          "contour": [
           {
            "colorbar": {
             "outlinewidth": 0,
             "ticks": ""
            },
            "colorscale": [
             [
              0,
              "#0d0887"
             ],
             [
              0.1111111111111111,
              "#46039f"
             ],
             [
              0.2222222222222222,
              "#7201a8"
             ],
             [
              0.3333333333333333,
              "#9c179e"
             ],
             [
              0.4444444444444444,
              "#bd3786"
             ],
             [
              0.5555555555555556,
              "#d8576b"
             ],
             [
              0.6666666666666666,
              "#ed7953"
             ],
             [
              0.7777777777777778,
              "#fb9f3a"
             ],
             [
              0.8888888888888888,
              "#fdca26"
             ],
             [
              1,
              "#f0f921"
             ]
            ],
            "type": "contour"
           }
          ],
          "contourcarpet": [
           {
            "colorbar": {
             "outlinewidth": 0,
             "ticks": ""
            },
            "type": "contourcarpet"
           }
          ],
          "heatmap": [
           {
            "colorbar": {
             "outlinewidth": 0,
             "ticks": ""
            },
            "colorscale": [
             [
              0,
              "#0d0887"
             ],
             [
              0.1111111111111111,
              "#46039f"
             ],
             [
              0.2222222222222222,
              "#7201a8"
             ],
             [
              0.3333333333333333,
              "#9c179e"
             ],
             [
              0.4444444444444444,
              "#bd3786"
             ],
             [
              0.5555555555555556,
              "#d8576b"
             ],
             [
              0.6666666666666666,
              "#ed7953"
             ],
             [
              0.7777777777777778,
              "#fb9f3a"
             ],
             [
              0.8888888888888888,
              "#fdca26"
             ],
             [
              1,
              "#f0f921"
             ]
            ],
            "type": "heatmap"
           }
          ],
          "heatmapgl": [
           {
            "colorbar": {
             "outlinewidth": 0,
             "ticks": ""
            },
            "colorscale": [
             [
              0,
              "#0d0887"
             ],
             [
              0.1111111111111111,
              "#46039f"
             ],
             [
              0.2222222222222222,
              "#7201a8"
             ],
             [
              0.3333333333333333,
              "#9c179e"
             ],
             [
              0.4444444444444444,
              "#bd3786"
             ],
             [
              0.5555555555555556,
              "#d8576b"
             ],
             [
              0.6666666666666666,
              "#ed7953"
             ],
             [
              0.7777777777777778,
              "#fb9f3a"
             ],
             [
              0.8888888888888888,
              "#fdca26"
             ],
             [
              1,
              "#f0f921"
             ]
            ],
            "type": "heatmapgl"
           }
          ],
          "histogram": [
           {
            "marker": {
             "pattern": {
              "fillmode": "overlay",
              "size": 10,
              "solidity": 0.2
             }
            },
            "type": "histogram"
           }
          ],
          "histogram2d": [
           {
            "colorbar": {
             "outlinewidth": 0,
             "ticks": ""
            },
            "colorscale": [
             [
              0,
              "#0d0887"
             ],
             [
              0.1111111111111111,
              "#46039f"
             ],
             [
              0.2222222222222222,
              "#7201a8"
             ],
             [
              0.3333333333333333,
              "#9c179e"
             ],
             [
              0.4444444444444444,
              "#bd3786"
             ],
             [
              0.5555555555555556,
              "#d8576b"
             ],
             [
              0.6666666666666666,
              "#ed7953"
             ],
             [
              0.7777777777777778,
              "#fb9f3a"
             ],
             [
              0.8888888888888888,
              "#fdca26"
             ],
             [
              1,
              "#f0f921"
             ]
            ],
            "type": "histogram2d"
           }
          ],
          "histogram2dcontour": [
           {
            "colorbar": {
             "outlinewidth": 0,
             "ticks": ""
            },
            "colorscale": [
             [
              0,
              "#0d0887"
             ],
             [
              0.1111111111111111,
              "#46039f"
             ],
             [
              0.2222222222222222,
              "#7201a8"
             ],
             [
              0.3333333333333333,
              "#9c179e"
             ],
             [
              0.4444444444444444,
              "#bd3786"
             ],
             [
              0.5555555555555556,
              "#d8576b"
             ],
             [
              0.6666666666666666,
              "#ed7953"
             ],
             [
              0.7777777777777778,
              "#fb9f3a"
             ],
             [
              0.8888888888888888,
              "#fdca26"
             ],
             [
              1,
              "#f0f921"
             ]
            ],
            "type": "histogram2dcontour"
           }
          ],
          "mesh3d": [
           {
            "colorbar": {
             "outlinewidth": 0,
             "ticks": ""
            },
            "type": "mesh3d"
           }
          ],
          "parcoords": [
           {
            "line": {
             "colorbar": {
              "outlinewidth": 0,
              "ticks": ""
             }
            },
            "type": "parcoords"
           }
          ],
          "pie": [
           {
            "automargin": true,
            "type": "pie"
           }
          ],
          "scatter": [
           {
            "marker": {
             "colorbar": {
              "outlinewidth": 0,
              "ticks": ""
             }
            },
            "type": "scatter"
           }
          ],
          "scatter3d": [
           {
            "line": {
             "colorbar": {
              "outlinewidth": 0,
              "ticks": ""
             }
            },
            "marker": {
             "colorbar": {
              "outlinewidth": 0,
              "ticks": ""
             }
            },
            "type": "scatter3d"
           }
          ],
          "scattercarpet": [
           {
            "marker": {
             "colorbar": {
              "outlinewidth": 0,
              "ticks": ""
             }
            },
            "type": "scattercarpet"
           }
          ],
          "scattergeo": [
           {
            "marker": {
             "colorbar": {
              "outlinewidth": 0,
              "ticks": ""
             }
            },
            "type": "scattergeo"
           }
          ],
          "scattergl": [
           {
            "marker": {
             "colorbar": {
              "outlinewidth": 0,
              "ticks": ""
             }
            },
            "type": "scattergl"
           }
          ],
          "scattermapbox": [
           {
            "marker": {
             "colorbar": {
              "outlinewidth": 0,
              "ticks": ""
             }
            },
            "type": "scattermapbox"
           }
          ],
          "scatterpolar": [
           {
            "marker": {
             "colorbar": {
              "outlinewidth": 0,
              "ticks": ""
             }
            },
            "type": "scatterpolar"
           }
          ],
          "scatterpolargl": [
           {
            "marker": {
             "colorbar": {
              "outlinewidth": 0,
              "ticks": ""
             }
            },
            "type": "scatterpolargl"
           }
          ],
          "scatterternary": [
           {
            "marker": {
             "colorbar": {
              "outlinewidth": 0,
              "ticks": ""
             }
            },
            "type": "scatterternary"
           }
          ],
          "surface": [
           {
            "colorbar": {
             "outlinewidth": 0,
             "ticks": ""
            },
            "colorscale": [
             [
              0,
              "#0d0887"
             ],
             [
              0.1111111111111111,
              "#46039f"
             ],
             [
              0.2222222222222222,
              "#7201a8"
             ],
             [
              0.3333333333333333,
              "#9c179e"
             ],
             [
              0.4444444444444444,
              "#bd3786"
             ],
             [
              0.5555555555555556,
              "#d8576b"
             ],
             [
              0.6666666666666666,
              "#ed7953"
             ],
             [
              0.7777777777777778,
              "#fb9f3a"
             ],
             [
              0.8888888888888888,
              "#fdca26"
             ],
             [
              1,
              "#f0f921"
             ]
            ],
            "type": "surface"
           }
          ],
          "table": [
           {
            "cells": {
             "fill": {
              "color": "#EBF0F8"
             },
             "line": {
              "color": "white"
             }
            },
            "header": {
             "fill": {
              "color": "#C8D4E3"
             },
             "line": {
              "color": "white"
             }
            },
            "type": "table"
           }
          ]
         },
         "layout": {
          "annotationdefaults": {
           "arrowcolor": "#2a3f5f",
           "arrowhead": 0,
           "arrowwidth": 1
          },
          "autotypenumbers": "strict",
          "coloraxis": {
           "colorbar": {
            "outlinewidth": 0,
            "ticks": ""
           }
          },
          "colorscale": {
           "diverging": [
            [
             0,
             "#8e0152"
            ],
            [
             0.1,
             "#c51b7d"
            ],
            [
             0.2,
             "#de77ae"
            ],
            [
             0.3,
             "#f1b6da"
            ],
            [
             0.4,
             "#fde0ef"
            ],
            [
             0.5,
             "#f7f7f7"
            ],
            [
             0.6,
             "#e6f5d0"
            ],
            [
             0.7,
             "#b8e186"
            ],
            [
             0.8,
             "#7fbc41"
            ],
            [
             0.9,
             "#4d9221"
            ],
            [
             1,
             "#276419"
            ]
           ],
           "sequential": [
            [
             0,
             "#0d0887"
            ],
            [
             0.1111111111111111,
             "#46039f"
            ],
            [
             0.2222222222222222,
             "#7201a8"
            ],
            [
             0.3333333333333333,
             "#9c179e"
            ],
            [
             0.4444444444444444,
             "#bd3786"
            ],
            [
             0.5555555555555556,
             "#d8576b"
            ],
            [
             0.6666666666666666,
             "#ed7953"
            ],
            [
             0.7777777777777778,
             "#fb9f3a"
            ],
            [
             0.8888888888888888,
             "#fdca26"
            ],
            [
             1,
             "#f0f921"
            ]
           ],
           "sequentialminus": [
            [
             0,
             "#0d0887"
            ],
            [
             0.1111111111111111,
             "#46039f"
            ],
            [
             0.2222222222222222,
             "#7201a8"
            ],
            [
             0.3333333333333333,
             "#9c179e"
            ],
            [
             0.4444444444444444,
             "#bd3786"
            ],
            [
             0.5555555555555556,
             "#d8576b"
            ],
            [
             0.6666666666666666,
             "#ed7953"
            ],
            [
             0.7777777777777778,
             "#fb9f3a"
            ],
            [
             0.8888888888888888,
             "#fdca26"
            ],
            [
             1,
             "#f0f921"
            ]
           ]
          },
          "colorway": [
           "#636efa",
           "#EF553B",
           "#00cc96",
           "#ab63fa",
           "#FFA15A",
           "#19d3f3",
           "#FF6692",
           "#B6E880",
           "#FF97FF",
           "#FECB52"
          ],
          "font": {
           "color": "#2a3f5f"
          },
          "geo": {
           "bgcolor": "white",
           "lakecolor": "white",
           "landcolor": "#E5ECF6",
           "showlakes": true,
           "showland": true,
           "subunitcolor": "white"
          },
          "hoverlabel": {
           "align": "left"
          },
          "hovermode": "closest",
          "mapbox": {
           "style": "light"
          },
          "paper_bgcolor": "white",
          "plot_bgcolor": "#E5ECF6",
          "polar": {
           "angularaxis": {
            "gridcolor": "white",
            "linecolor": "white",
            "ticks": ""
           },
           "bgcolor": "#E5ECF6",
           "radialaxis": {
            "gridcolor": "white",
            "linecolor": "white",
            "ticks": ""
           }
          },
          "scene": {
           "xaxis": {
            "backgroundcolor": "#E5ECF6",
            "gridcolor": "white",
            "gridwidth": 2,
            "linecolor": "white",
            "showbackground": true,
            "ticks": "",
            "zerolinecolor": "white"
           },
           "yaxis": {
            "backgroundcolor": "#E5ECF6",
            "gridcolor": "white",
            "gridwidth": 2,
            "linecolor": "white",
            "showbackground": true,
            "ticks": "",
            "zerolinecolor": "white"
           },
           "zaxis": {
            "backgroundcolor": "#E5ECF6",
            "gridcolor": "white",
            "gridwidth": 2,
            "linecolor": "white",
            "showbackground": true,
            "ticks": "",
            "zerolinecolor": "white"
           }
          },
          "shapedefaults": {
           "line": {
            "color": "#2a3f5f"
           }
          },
          "ternary": {
           "aaxis": {
            "gridcolor": "white",
            "linecolor": "white",
            "ticks": ""
           },
           "baxis": {
            "gridcolor": "white",
            "linecolor": "white",
            "ticks": ""
           },
           "bgcolor": "#E5ECF6",
           "caxis": {
            "gridcolor": "white",
            "linecolor": "white",
            "ticks": ""
           }
          },
          "title": {
           "x": 0.05
          },
          "xaxis": {
           "automargin": true,
           "gridcolor": "white",
           "linecolor": "white",
           "ticks": "",
           "title": {
            "standoff": 15
           },
           "zerolinecolor": "white",
           "zerolinewidth": 2
          },
          "yaxis": {
           "automargin": true,
           "gridcolor": "white",
           "linecolor": "white",
           "ticks": "",
           "title": {
            "standoff": 15
           },
           "zerolinecolor": "white",
           "zerolinewidth": 2
          }
         }
        },
        "title": {
         "text": "marital-status ~ relationship"
        },
        "width": 1100,
        "xaxis": {
         "anchor": "y",
         "autorange": true,
         "domain": [
          0,
          0.475
         ],
         "matches": "x3",
         "range": [
          -0.5,
          5.5
         ],
         "showticklabels": true,
         "tickangle": 30,
         "type": "category"
        },
        "xaxis2": {
         "anchor": "y2",
         "autorange": true,
         "domain": [
          0.525,
          1
         ],
         "matches": "x4",
         "range": [
          -0.5,
          5.5
         ],
         "showticklabels": true,
         "tickangle": 30,
         "type": "category"
        },
        "xaxis3": {
         "anchor": "y3",
         "autorange": true,
         "domain": [
          0,
          0.475
         ],
         "range": [
          -0.5,
          5.5
         ],
         "showticklabels": true,
         "tickangle": 30,
         "type": "category"
        },
        "xaxis4": {
         "anchor": "y4",
         "autorange": true,
         "domain": [
          0.525,
          1
         ],
         "range": [
          -0.5,
          5.5
         ],
         "showticklabels": true,
         "tickangle": 30,
         "type": "category"
        },
        "yaxis": {
         "anchor": "x",
         "autorange": true,
         "domain": [
          0.575,
          1
         ],
         "range": [
          -0.5,
          5.5
         ],
         "type": "category"
        },
        "yaxis2": {
         "anchor": "x2",
         "autorange": true,
         "domain": [
          0.575,
          1
         ],
         "matches": "y",
         "range": [
          -0.5,
          5.5
         ],
         "showticklabels": false,
         "type": "category"
        },
        "yaxis3": {
         "anchor": "x3",
         "autorange": true,
         "domain": [
          0,
          0.425
         ],
         "range": [
          -0.5,
          5.5
         ],
         "type": "category"
        },
        "yaxis4": {
         "anchor": "x4",
         "autorange": true,
         "domain": [
          0,
          0.425
         ],
         "matches": "y3",
         "range": [
          -0.5,
          5.5
         ],
         "showticklabels": false,
         "type": "category"
        }
       }
      },
      "image/png": "[encoded data removed]",
      "text/html": [
       "<div>                            <div id=\"5166fe9d-757b-4e35-a1a5-fefdcc2ded80\" class=\"plotly-graph-div\" style=\"height:900px; width:1100px;\"></div>            <script type=\"text/javascript\">                require([\"plotly\"], function(Plotly) {                    window.PLOTLYENV=window.PLOTLYENV || {};                                    if (document.getElementById(\"5166fe9d-757b-4e35-a1a5-fefdcc2ded80\")) {                    Plotly.newPlot(                        \"5166fe9d-757b-4e35-a1a5-fefdcc2ded80\",                        [{\"colorscale\":[[0.0,\"white\"],[0.3333333333333333,\"#A7A7A7\"],[0.6666666666666666,\"#7B7B7B\"],[1.0,\"#666666\"]],\"showscale\":false,\"text\":[24,16,4,31,22,7,3,303,280,70,33,11,10,4,1,806,82,9,8,2,173,77,15,9],\"textfont\":{\"size\":10},\"texttemplate\":\"%{text}\",\"x\":[\"Not-in-family\",\"Unmarried\",\"Other-relative\",\"Unmarried\",\"Not-in-family\",\"Own-child\",\"Other-relative\",\"Not-in-family\",\"Own-child\",\"Unmarried\",\"Other-relative\",\"Not-in-family\",\"Unmarried\",\"Own-child\",\"Other-relative\",\"Husband\",\"Wife\",\"Own-child\",\"Other-relative\",\"Not-in-family\",\"Not-in-family\",\"Unmarried\",\"Own-child\",\"Other-relative\"],\"y\":[\"Widowed\",\"Widowed\",\"Widowed\",\"Separated\",\"Separated\",\"Separated\",\"Separated\",\"Never-married\",\"Never-married\",\"Never-married\",\"Never-married\",\"Married-spouse-absent\",\"Married-spouse-absent\",\"Married-spouse-absent\",\"Married-spouse-absent\",\"Married-civ-spouse\",\"Married-civ-spouse\",\"Married-civ-spouse\",\"Married-civ-spouse\",\"Married-civ-spouse\",\"Divorced\",\"Divorced\",\"Divorced\",\"Divorced\"],\"z\":[0.5454545454545454,0.36363636363636365,0.09090909090909091,0.49206349206349204,0.3492063492063492,0.1111111111111111,0.047619047619047616,0.44169096209912534,0.40816326530612246,0.10204081632653061,0.048104956268221574,0.4230769230769231,0.38461538461538464,0.15384615384615385,0.038461538461538464,0.8886438809261301,0.09040793825799338,0.009922822491730982,0.008820286659316428,0.002205071664829107,0.6313868613138686,0.28102189781021897,0.05474452554744526,0.032846715328467155],\"zmax\":1,\"zmin\":0,\"type\":\"heatmap\",\"xaxis\":\"x\",\"yaxis\":\"y\"},{\"colorscale\":[[0.0,\"white\"],[0.3333333333333333,\"#A7A7A7\"],[0.6666666666666666,\"#7B7B7B\"],[1.0,\"#666666\"]],\"showscale\":false,\"text\":[1180,1027,90,32,2,1431,1017,392,196,9,14454,13291,4052,1698,9,8,554,453,159,79,5,2,40247,4266,230,192,81,52,8594,4569,1062,537,27,3],\"textfont\":{\"size\":10},\"texttemplate\":\"%{text}\",\"x\":[\"Not-in-family\",\"Unmarried\",\"Other-relative\",\"Own-child\",\"Husband\",\"Not-in-family\",\"Unmarried\",\"Own-child\",\"Other-relative\",\"Husband\",\"Own-child\",\"Not-in-family\",\"Unmarried\",\"Other-relative\",\"Wife\",\"Husband\",\"Not-in-family\",\"Unmarried\",\"Own-child\",\"Other-relative\",\"Husband\",\"Wife\",\"Husband\",\"Wife\",\"Own-child\",\"Other-relative\",\"Not-in-family\",\"Unmarried\",\"Not-in-family\",\"Unmarried\",\"Own-child\",\"Other-relative\",\"Husband\",\"Wife\"],\"y\":[\"Widowed\",\"Widowed\",\"Widowed\",\"Widowed\",\"Widowed\",\"Separated\",\"Separated\",\"Separated\",\"Separated\",\"Separated\",\"Never-married\",\"Never-married\",\"Never-married\",\"Never-married\",\"Never-married\",\"Never-married\",\"Married-spouse-absent\",\"Married-spouse-absent\",\"Married-spouse-absent\",\"Married-spouse-absent\",\"Married-spouse-absent\",\"Married-spouse-absent\",\"Married-civ-spouse\",\"Married-civ-spouse\",\"Married-civ-spouse\",\"Married-civ-spouse\",\"Married-civ-spouse\",\"Married-civ-spouse\",\"Divorced\",\"Divorced\",\"Divorced\",\"Divorced\",\"Divorced\",\"Divorced\"],\"z\":[0.5062205062205062,0.44058344058344057,0.03861003861003861,0.013728013728013728,0.000858000858000858,0.46995073891625616,0.33399014778325126,0.12873563218390804,0.06436781609195402,0.002955665024630542,0.43130818811172117,0.39660420148006686,0.12091191215087133,0.05066841728336118,0.00026856051563619004,0.00023872045834328001,0.4424920127795527,0.36182108626198084,0.1269968051118211,0.06309904153354633,0.003993610223642172,0.001597444089456869,0.8930283127718115,0.09465696281175114,0.00510339930771279,0.004260228987308068,0.001797284104020591,0.001153812017395935,0.5809897241752299,0.30888318009734994,0.07179556517036235,0.03630340724716063,0.0018253109789075177,0.00020281233098972418],\"zmax\":1,\"zmin\":0,\"type\":\"heatmap\",\"xaxis\":\"x2\",\"yaxis\":\"y2\"},{\"colorscale\":[[0.0,\"white\"],[0.3333333333333333,\"#A7A7A7\"],[0.6666666666666666,\"#7B7B7B\"],[1.0,\"#666666\"]],\"showscale\":false,\"text\":[1180,1027,90,32,2,1431,1017,392,196,9,14454,13291,4052,1698,9,8,554,453,159,79,5,2,40247,4266,230,192,81,52,8594,4569,1062,537,27,3],\"textfont\":{\"size\":10},\"texttemplate\":\"%{text}\",\"x\":[\"Not-in-family\",\"Unmarried\",\"Other-relative\",\"Own-child\",\"Husband\",\"Not-in-family\",\"Unmarried\",\"Own-child\",\"Other-relative\",\"Husband\",\"Own-child\",\"Not-in-family\",\"Unmarried\",\"Other-relative\",\"Wife\",\"Husband\",\"Not-in-family\",\"Unmarried\",\"Own-child\",\"Other-relative\",\"Husband\",\"Wife\",\"Husband\",\"Wife\",\"Own-child\",\"Other-relative\",\"Not-in-family\",\"Unmarried\",\"Not-in-family\",\"Unmarried\",\"Own-child\",\"Other-relative\",\"Husband\",\"Wife\"],\"y\":[\"Widowed\",\"Widowed\",\"Widowed\",\"Widowed\",\"Widowed\",\"Separated\",\"Separated\",\"Separated\",\"Separated\",\"Separated\",\"Never-married\",\"Never-married\",\"Never-married\",\"Never-married\",\"Never-married\",\"Never-married\",\"Married-spouse-absent\",\"Married-spouse-absent\",\"Married-spouse-absent\",\"Married-spouse-absent\",\"Married-spouse-absent\",\"Married-spouse-absent\",\"Married-civ-spouse\",\"Married-civ-spouse\",\"Married-civ-spouse\",\"Married-civ-spouse\",\"Married-civ-spouse\",\"Married-civ-spouse\",\"Divorced\",\"Divorced\",\"Divorced\",\"Divorced\",\"Divorced\",\"Divorced\"],\"z\":[0.5062205062205062,0.44058344058344057,0.03861003861003861,0.013728013728013728,0.000858000858000858,0.46995073891625616,0.33399014778325126,0.12873563218390804,0.06436781609195402,0.002955665024630542,0.43130818811172117,0.39660420148006686,0.12091191215087133,0.05066841728336118,0.00026856051563619004,0.00023872045834328001,0.4424920127795527,0.36182108626198084,0.1269968051118211,0.06309904153354633,0.003993610223642172,0.001597444089456869,0.8930283127718115,0.09465696281175114,0.00510339930771279,0.004260228987308068,0.001797284104020591,0.001153812017395935,0.5809897241752299,0.30888318009734994,0.07179556517036235,0.03630340724716063,0.0018253109789075177,0.00020281233098972418],\"zmax\":1,\"zmin\":0,\"type\":\"heatmap\",\"xaxis\":\"x3\",\"yaxis\":\"y3\"},{\"colorscale\":[[0.0,\"white\"],[0.3333333333333333,\"#A7A7A7\"],[0.6666666666666666,\"#7B7B7B\"],[1.0,\"#666666\"]],\"showscale\":false,\"text\":[1180,1027,90,32,2,1431,1017,392,196,9,14454,13291,4052,1698,9,8,554,453,159,79,5,2,40247,4266,230,192,81,52,8594,4569,1062,537,27,3],\"textfont\":{\"size\":10},\"texttemplate\":\"%{text}\",\"x\":[\"Not-in-family\",\"Unmarried\",\"Other-relative\",\"Own-child\",\"Husband\",\"Not-in-family\",\"Unmarried\",\"Own-child\",\"Other-relative\",\"Husband\",\"Own-child\",\"Not-in-family\",\"Unmarried\",\"Other-relative\",\"Wife\",\"Husband\",\"Not-in-family\",\"Unmarried\",\"Own-child\",\"Other-relative\",\"Husband\",\"Wife\",\"Husband\",\"Wife\",\"Own-child\",\"Other-relative\",\"Not-in-family\",\"Unmarried\",\"Not-in-family\",\"Unmarried\",\"Own-child\",\"Other-relative\",\"Husband\",\"Wife\"],\"y\":[\"Widowed\",\"Widowed\",\"Widowed\",\"Widowed\",\"Widowed\",\"Separated\",\"Separated\",\"Separated\",\"Separated\",\"Separated\",\"Never-married\",\"Never-married\",\"Never-married\",\"Never-married\",\"Never-married\",\"Never-married\",\"Married-spouse-absent\",\"Married-spouse-absent\",\"Married-spouse-absent\",\"Married-spouse-absent\",\"Married-spouse-absent\",\"Married-spouse-absent\",\"Married-civ-spouse\",\"Married-civ-spouse\",\"Married-civ-spouse\",\"Married-civ-spouse\",\"Married-civ-spouse\",\"Married-civ-spouse\",\"Divorced\",\"Divorced\",\"Divorced\",\"Divorced\",\"Divorced\",\"Divorced\"],\"z\":[0.5062205062205062,0.44058344058344057,0.03861003861003861,0.013728013728013728,0.000858000858000858,0.46995073891625616,0.33399014778325126,0.12873563218390804,0.06436781609195402,0.002955665024630542,0.43130818811172117,0.39660420148006686,0.12091191215087133,0.05066841728336118,0.00026856051563619004,0.00023872045834328001,0.4424920127795527,0.36182108626198084,0.1269968051118211,0.06309904153354633,0.003993610223642172,0.001597444089456869,0.8930283127718115,0.09465696281175114,0.00510339930771279,0.004260228987308068,0.001797284104020591,0.001153812017395935,0.5809897241752299,0.30888318009734994,0.07179556517036235,0.03630340724716063,0.0018253109789075177,0.00020281233098972418],\"zmax\":1,\"zmin\":0,\"type\":\"heatmap\",\"xaxis\":\"x4\",\"yaxis\":\"y4\"}],                        {\"autosize\":false,\"height\":900,\"margin\":{\"b\":10,\"l\":10,\"pad\":5,\"r\":10,\"t\":80},\"plot_bgcolor\":\"rgba(0,0,0,0)\",\"showlegend\":false,\"title\":{\"text\":\"marital-status ~ relationship\"},\"width\":1100,\"template\":{\"data\":{\"bar\":[{\"error_x\":{\"color\":\"#2a3f5f\"},\"error_y\":{\"color\":\"#2a3f5f\"},\"marker\":{\"line\":{\"color\":\"#E5ECF6\",\"width\":0.5},\"pattern\":{\"fillmode\":\"overlay\",\"size\":10,\"solidity\":0.2}},\"type\":\"bar\"}],\"barpolar\":[{\"marker\":{\"line\":{\"color\":\"#E5ECF6\",\"width\":0.5},\"pattern\":{\"fillmode\":\"overlay\",\"size\":10,\"solidity\":0.2}},\"type\":\"barpolar\"}],\"carpet\":[{\"aaxis\":{\"endlinecolor\":\"#2a3f5f\",\"gridcolor\":\"white\",\"linecolor\":\"white\",\"minorgridcolor\":\"white\",\"startlinecolor\":\"#2a3f5f\"},\"baxis\":{\"endlinecolor\":\"#2a3f5f\",\"gridcolor\":\"white\",\"linecolor\":\"white\",\"minorgridcolor\":\"white\",\"startlinecolor\":\"#2a3f5f\"},\"type\":\"carpet\"}],\"choropleth\":[{\"colorbar\":{\"outlinewidth\":0,\"ticks\":\"\"},\"type\":\"choropleth\"}],\"contour\":[{\"colorbar\":{\"outlinewidth\":0,\"ticks\":\"\"},\"colorscale\":[[0.0,\"#0d0887\"],[0.1111111111111111,\"#46039f\"],[0.2222222222222222,\"#7201a8\"],[0.3333333333333333,\"#9c179e\"],[0.4444444444444444,\"#bd3786\"],[0.5555555555555556,\"#d8576b\"],[0.6666666666666666,\"#ed7953\"],[0.7777777777777778,\"#fb9f3a\"],[0.8888888888888888,\"#fdca26\"],[1.0,\"#f0f921\"]],\"type\":\"contour\"}],\"contourcarpet\":[{\"colorbar\":{\"outlinewidth\":0,\"ticks\":\"\"},\"type\":\"contourcarpet\"}],\"heatmap\":[{\"colorbar\":{\"outlinewidth\":0,\"ticks\":\"\"},\"colorscale\":[[0.0,\"#0d0887\"],[0.1111111111111111,\"#46039f\"],[0.2222222222222222,\"#7201a8\"],[0.3333333333333333,\"#9c179e\"],[0.4444444444444444,\"#bd3786\"],[0.5555555555555556,\"#d8576b\"],[0.6666666666666666,\"#ed7953\"],[0.7777777777777778,\"#fb9f3a\"],[0.8888888888888888,\"#fdca26\"],[1.0,\"#f0f921\"]],\"type\":\"heatmap\"}],\"heatmapgl\":[{\"colorbar\":{\"outlinewidth\":0,\"ticks\":\"\"},\"colorscale\":[[0.0,\"#0d0887\"],[0.1111111111111111,\"#46039f\"],[0.2222222222222222,\"#7201a8\"],[0.3333333333333333,\"#9c179e\"],[0.4444444444444444,\"#bd3786\"],[0.5555555555555556,\"#d8576b\"],[0.6666666666666666,\"#ed7953\"],[0.7777777777777778,\"#fb9f3a\"],[0.8888888888888888,\"#fdca26\"],[1.0,\"#f0f921\"]],\"type\":\"heatmapgl\"}],\"histogram\":[{\"marker\":{\"pattern\":{\"fillmode\":\"overlay\",\"size\":10,\"solidity\":0.2}},\"type\":\"histogram\"}],\"histogram2d\":[{\"colorbar\":{\"outlinewidth\":0,\"ticks\":\"\"},\"colorscale\":[[0.0,\"#0d0887\"],[0.1111111111111111,\"#46039f\"],[0.2222222222222222,\"#7201a8\"],[0.3333333333333333,\"#9c179e\"],[0.4444444444444444,\"#bd3786\"],[0.5555555555555556,\"#d8576b\"],[0.6666666666666666,\"#ed7953\"],[0.7777777777777778,\"#fb9f3a\"],[0.8888888888888888,\"#fdca26\"],[1.0,\"#f0f921\"]],\"type\":\"histogram2d\"}],\"histogram2dcontour\":[{\"colorbar\":{\"outlinewidth\":0,\"ticks\":\"\"},\"colorscale\":[[0.0,\"#0d0887\"],[0.1111111111111111,\"#46039f\"],[0.2222222222222222,\"#7201a8\"],[0.3333333333333333,\"#9c179e\"],[0.4444444444444444,\"#bd3786\"],[0.5555555555555556,\"#d8576b\"],[0.6666666666666666,\"#ed7953\"],[0.7777777777777778,\"#fb9f3a\"],[0.8888888888888888,\"#fdca26\"],[1.0,\"#f0f921\"]],\"type\":\"histogram2dcontour\"}],\"mesh3d\":[{\"colorbar\":{\"outlinewidth\":0,\"ticks\":\"\"},\"type\":\"mesh3d\"}],\"parcoords\":[{\"line\":{\"colorbar\":{\"outlinewidth\":0,\"ticks\":\"\"}},\"type\":\"parcoords\"}],\"pie\":[{\"automargin\":true,\"type\":\"pie\"}],\"scatter\":[{\"marker\":{\"colorbar\":{\"outlinewidth\":0,\"ticks\":\"\"}},\"type\":\"scatter\"}],\"scatter3d\":[{\"line\":{\"colorbar\":{\"outlinewidth\":0,\"ticks\":\"\"}},\"marker\":{\"colorbar\":{\"outlinewidth\":0,\"ticks\":\"\"}},\"type\":\"scatter3d\"}],\"scattercarpet\":[{\"marker\":{\"colorbar\":{\"outlinewidth\":0,\"ticks\":\"\"}},\"type\":\"scattercarpet\"}],\"scattergeo\":[{\"marker\":{\"colorbar\":{\"outlinewidth\":0,\"ticks\":\"\"}},\"type\":\"scattergeo\"}],\"scattergl\":[{\"marker\":{\"colorbar\":{\"outlinewidth\":0,\"ticks\":\"\"}},\"type\":\"scattergl\"}],\"scattermapbox\":[{\"marker\":{\"colorbar\":{\"outlinewidth\":0,\"ticks\":\"\"}},\"type\":\"scattermapbox\"}],\"scatterpolar\":[{\"marker\":{\"colorbar\":{\"outlinewidth\":0,\"ticks\":\"\"}},\"type\":\"scatterpolar\"}],\"scatterpolargl\":[{\"marker\":{\"colorbar\":{\"outlinewidth\":0,\"ticks\":\"\"}},\"type\":\"scatterpolargl\"}],\"scatterternary\":[{\"marker\":{\"colorbar\":{\"outlinewidth\":0,\"ticks\":\"\"}},\"type\":\"scatterternary\"}],\"surface\":[{\"colorbar\":{\"outlinewidth\":0,\"ticks\":\"\"},\"colorscale\":[[0.0,\"#0d0887\"],[0.1111111111111111,\"#46039f\"],[0.2222222222222222,\"#7201a8\"],[0.3333333333333333,\"#9c179e\"],[0.4444444444444444,\"#bd3786\"],[0.5555555555555556,\"#d8576b\"],[0.6666666666666666,\"#ed7953\"],[0.7777777777777778,\"#fb9f3a\"],[0.8888888888888888,\"#fdca26\"],[1.0,\"#f0f921\"]],\"type\":\"surface\"}],\"table\":[{\"cells\":{\"fill\":{\"color\":\"#EBF0F8\"},\"line\":{\"color\":\"white\"}},\"header\":{\"fill\":{\"color\":\"#C8D4E3\"},\"line\":{\"color\":\"white\"}},\"type\":\"table\"}]},\"layout\":{\"annotationdefaults\":{\"arrowcolor\":\"#2a3f5f\",\"arrowhead\":0,\"arrowwidth\":1},\"autotypenumbers\":\"strict\",\"coloraxis\":{\"colorbar\":{\"outlinewidth\":0,\"ticks\":\"\"}},\"colorscale\":{\"diverging\":[[0,\"#8e0152\"],[0.1,\"#c51b7d\"],[0.2,\"#de77ae\"],[0.3,\"#f1b6da\"],[0.4,\"#fde0ef\"],[0.5,\"#f7f7f7\"],[0.6,\"#e6f5d0\"],[0.7,\"#b8e186\"],[0.8,\"#7fbc41\"],[0.9,\"#4d9221\"],[1,\"#276419\"]],\"sequential\":[[0.0,\"#0d0887\"],[0.1111111111111111,\"#46039f\"],[0.2222222222222222,\"#7201a8\"],[0.3333333333333333,\"#9c179e\"],[0.4444444444444444,\"#bd3786\"],[0.5555555555555556,\"#d8576b\"],[0.6666666666666666,\"#ed7953\"],[0.7777777777777778,\"#fb9f3a\"],[0.8888888888888888,\"#fdca26\"],[1.0,\"#f0f921\"]],\"sequentialminus\":[[0.0,\"#0d0887\"],[0.1111111111111111,\"#46039f\"],[0.2222222222222222,\"#7201a8\"],[0.3333333333333333,\"#9c179e\"],[0.4444444444444444,\"#bd3786\"],[0.5555555555555556,\"#d8576b\"],[0.6666666666666666,\"#ed7953\"],[0.7777777777777778,\"#fb9f3a\"],[0.8888888888888888,\"#fdca26\"],[1.0,\"#f0f921\"]]},\"colorway\":[\"#636efa\",\"#EF553B\",\"#00cc96\",\"#ab63fa\",\"#FFA15A\",\"#19d3f3\",\"#FF6692\",\"#B6E880\",\"#FF97FF\",\"#FECB52\"],\"font\":{\"color\":\"#2a3f5f\"},\"geo\":{\"bgcolor\":\"white\",\"lakecolor\":\"white\",\"landcolor\":\"#E5ECF6\",\"showlakes\":true,\"showland\":true,\"subunitcolor\":\"white\"},\"hoverlabel\":{\"align\":\"left\"},\"hovermode\":\"closest\",\"mapbox\":{\"style\":\"light\"},\"paper_bgcolor\":\"white\",\"plot_bgcolor\":\"#E5ECF6\",\"polar\":{\"angularaxis\":{\"gridcolor\":\"white\",\"linecolor\":\"white\",\"ticks\":\"\"},\"bgcolor\":\"#E5ECF6\",\"radialaxis\":{\"gridcolor\":\"white\",\"linecolor\":\"white\",\"ticks\":\"\"}},\"scene\":{\"xaxis\":{\"backgroundcolor\":\"#E5ECF6\",\"gridcolor\":\"white\",\"gridwidth\":2,\"linecolor\":\"white\",\"showbackground\":true,\"ticks\":\"\",\"zerolinecolor\":\"white\"},\"yaxis\":{\"backgroundcolor\":\"#E5ECF6\",\"gridcolor\":\"white\",\"gridwidth\":2,\"linecolor\":\"white\",\"showbackground\":true,\"ticks\":\"\",\"zerolinecolor\":\"white\"},\"zaxis\":{\"backgroundcolor\":\"#E5ECF6\",\"gridcolor\":\"white\",\"gridwidth\":2,\"linecolor\":\"white\",\"showbackground\":true,\"ticks\":\"\",\"zerolinecolor\":\"white\"}},\"shapedefaults\":{\"line\":{\"color\":\"#2a3f5f\"}},\"ternary\":{\"aaxis\":{\"gridcolor\":\"white\",\"linecolor\":\"white\",\"ticks\":\"\"},\"baxis\":{\"gridcolor\":\"white\",\"linecolor\":\"white\",\"ticks\":\"\"},\"bgcolor\":\"#E5ECF6\",\"caxis\":{\"gridcolor\":\"white\",\"linecolor\":\"white\",\"ticks\":\"\"}},\"title\":{\"x\":0.05},\"xaxis\":{\"automargin\":true,\"gridcolor\":\"white\",\"linecolor\":\"white\",\"ticks\":\"\",\"title\":{\"standoff\":15},\"zerolinecolor\":\"white\",\"zerolinewidth\":2},\"yaxis\":{\"automargin\":true,\"gridcolor\":\"white\",\"linecolor\":\"white\",\"ticks\":\"\",\"title\":{\"standoff\":15},\"zerolinecolor\":\"white\",\"zerolinewidth\":2}}},\"xaxis\":{\"anchor\":\"y\",\"domain\":[0.0,0.475],\"matches\":\"x3\",\"showticklabels\":true,\"tickangle\":30,\"type\":\"category\"},\"yaxis\":{\"anchor\":\"x\",\"domain\":[0.575,1.0]},\"xaxis2\":{\"anchor\":\"y2\",\"domain\":[0.525,1.0],\"matches\":\"x4\",\"showticklabels\":true,\"tickangle\":30,\"type\":\"category\"},\"yaxis2\":{\"anchor\":\"x2\",\"domain\":[0.575,1.0],\"matches\":\"y\",\"showticklabels\":false},\"xaxis3\":{\"anchor\":\"y3\",\"domain\":[0.0,0.475],\"tickangle\":30,\"showticklabels\":true,\"type\":\"category\"},\"yaxis3\":{\"anchor\":\"x3\",\"domain\":[0.0,0.425]},\"xaxis4\":{\"anchor\":\"y4\",\"domain\":[0.525,1.0],\"tickangle\":30,\"showticklabels\":true,\"type\":\"category\"},\"yaxis4\":{\"anchor\":\"x4\",\"domain\":[0.0,0.425],\"matches\":\"y3\",\"showticklabels\":false},\"annotations\":[{\"font\":{\"size\":16},\"showarrow\":false,\"text\":\"target\",\"x\":0.2375,\"xanchor\":\"center\",\"xref\":\"paper\",\"y\":1.0,\"yanchor\":\"bottom\",\"yref\":\"paper\"},{\"font\":{\"size\":16},\"showarrow\":false,\"text\":\"synthetic w/o rules\",\"x\":0.7625,\"xanchor\":\"center\",\"xref\":\"paper\",\"y\":1.0,\"yanchor\":\"bottom\",\"yref\":\"paper\"},{\"font\":{\"size\":16},\"showarrow\":false,\"text\":\"synthetic w/ loss component\",\"x\":0.2375,\"xanchor\":\"center\",\"xref\":\"paper\",\"y\":0.425,\"yanchor\":\"bottom\",\"yref\":\"paper\"},{\"font\":{\"size\":16},\"showarrow\":false,\"text\":\"synthetic w/ rule adherence\",\"x\":0.7625,\"xanchor\":\"center\",\"xref\":\"paper\",\"y\":0.425,\"yanchor\":\"bottom\",\"yref\":\"paper\"}]},                        {\"responsive\": true}                    ).then(function(){\n",
       "                            \n",
       "var gd = document.getElementById('5166fe9d-757b-4e35-a1a5-fefdcc2ded80');\n",
       "var x = new MutationObserver(function (mutations, observer) {{\n",
       "        var display = window.getComputedStyle(gd).display;\n",
       "        if (!display || display === 'none') {{\n",
       "            console.log([gd, 'removed!']);\n",
       "            Plotly.purge(gd);\n",
       "            observer.disconnect();\n",
       "        }}\n",
       "}});\n",
       "\n",
       "// Listen for the removal of the full notebook cells\n",
       "var notebookContainer = gd.closest('#notebook-container');\n",
       "if (notebookContainer) {{\n",
       "    x.observe(notebookContainer, {childList: true});\n",
       "}}\n",
       "\n",
       "// Listen for the clearing of the current output cell\n",
       "var outputEl = gd.closest('.output');\n",
       "if (outputEl) {{\n",
       "    x.observe(outputEl, {childList: true});\n",
       "}}\n",
       "\n",
       "                        })                };                });            </script>        </div>"
      ]
     },
     "metadata": {},
     "output_type": "display_data"
    }
   ],
   "source": [
    "layout = go.Layout(\n",
    "    title='marital-status ~ relationship',\n",
    "    plot_bgcolor=\"rgba(0,0,0,0)\",\n",
    "    autosize=False,\n",
    "    height=900,\n",
    "    width=1100,\n",
    "    margin=dict(l=10, r=10, b=10, t=80, pad=5),\n",
    "    showlegend=False,\n",
    ")\n",
    "fig = go.Figure(layout=layout).set_subplots(\n",
    "    rows=2,\n",
    "    cols=2,\n",
    "    horizontal_spacing=0.05,\n",
    "    vertical_spacing=0.15,\n",
    "    shared_yaxes=True,\n",
    "    shared_xaxes=True,\n",
    "    subplot_titles=(\"target\", \n",
    "                    \"synthetic w/o rules\", \n",
    "                    \"synthetic w/ loss component\", \n",
    "                    \"synthetic w/ rule adherence\"),\n",
    ")\n",
    "\n",
    "def heat(data):\n",
    "    col1 = 'marital-status'\n",
    "    col2 = 'relationship'\n",
    "    df = data[[col1, col2]].value_counts().to_frame('cnt').reset_index().sort_values([col1, 'cnt'], ascending=False)\n",
    "    df[\"share_by_row\"] = df[\"cnt\"] / df.groupby(col1)[\"cnt\"].transform(\"sum\")\n",
    "    heat = go.Heatmap(\n",
    "        x=df[col2],\n",
    "        y=df[col1],\n",
    "        z=df[\"share_by_row\"],\n",
    "        text=df[\"cnt\"],\n",
    "        texttemplate=\"%{text}\",\n",
    "        textfont={\"size\": 10},\n",
    "        zmin=0,\n",
    "        zmax=1,\n",
    "        colorscale=[\"white\", \"#A7A7A7\", \"#7B7B7B\", \"#666666\"],\n",
    "        showscale=False,\n",
    "    )\n",
    "    return heat\n",
    "\n",
    "fig.add_trace(heat(tgt), row=1, col=1)\n",
    "fig.add_trace(heat(syn), row=1, col=2)\n",
    "fig.add_trace(heat(syn_trn), row=2, col=1)\n",
    "fig.add_trace(heat(syn_gen), row=2, col=2)\n",
    "fig.update_xaxes(tickangle=30, showticklabels = True, type = 'category')\n",
    "fig.write_image(\"adult_relationship.png\")\n",
    "fig"
   ]
  },
  {
   "cell_type": "markdown",
   "id": "c3b9d445-1931-4b39-826f-b7b6e8ff60cd",
   "metadata": {},
   "source": [
    "### education ~ education.num"
   ]
  },
  {
   "cell_type": "code",
   "execution_count": 6,
   "id": "f815a800-89bb-4e77-b40a-891c0bd149dd",
   "metadata": {},
   "outputs": [],
   "source": [
    "edu = tgt[['education', 'education-num']].drop_duplicates().sort_values('education-num')\n",
    "edu['sort_idx'] = edu['education-num']\n",
    "\n",
    "tgt[\"education-num\"] = pd.Categorical(tgt[\"education-num\"], categories=edu[\"education-num\"], ordered=True)\n",
    "syn[\"education-num\"] = pd.Categorical(syn[\"education-num\"], categories=edu[\"education-num\"], ordered=True)\n",
    "syn_trn[\"education-num\"] = pd.Categorical(syn_trn[\"education-num\"], categories=edu[\"education-num\"], ordered=True)\n",
    "syn_gen[\"education-num\"] = pd.Categorical(syn_gen[\"education-num\"], categories=edu[\"education-num\"], ordered=True)\n",
    "\n",
    "tgt[\"education\"] = pd.Categorical(tgt.education, categories=edu.education, ordered=True)\n",
    "syn[\"education\"] = pd.Categorical(syn.education, categories=edu.education, ordered=True)\n",
    "syn_trn[\"education\"] = pd.Categorical(syn_trn.education, categories=edu.education, ordered=True)\n",
    "syn_gen[\"education\"] = pd.Categorical(syn_gen.education, categories=edu.education, ordered=True)"
   ]
  },
  {
   "cell_type": "code",
   "execution_count": 7,
   "id": "ce882c95-9827-4927-8e4e-1ec695417ce2",
   "metadata": {},
   "outputs": [
    {
     "data": {
      "application/vnd.plotly.v1+json": {
       "config": {
        "plotlyServerURL": "https://plot.ly"
       },
       "data": [
        {
         "colorscale": [
          [
           0,
           "white"
          ],
          [
           0.3333333333333333,
           "#A7A7A7"
          ],
          [
           0.6666666666666666,
           "#7B7B7B"
          ],
          [
           1,
           "#666666"
          ]
         ],
         "showscale": false,
         "text": [
          2,
          8,
          19,
          44,
          30,
          63,
          63,
          31,
          622,
          464,
          94,
          72,
          334,
          97,
          32,
          25
         ],
         "textfont": {
          "size": 7
         },
         "texttemplate": "%{text}",
         "type": "heatmap",
         "x": [
          1,
          2,
          3,
          4,
          5,
          6,
          7,
          8,
          9,
          10,
          11,
          12,
          13,
          14,
          15,
          16
         ],
         "xaxis": "x",
         "y": [
          "Preschool",
          "1st-4th",
          "5th-6th",
          "7th-8th",
          "9th",
          "10th",
          "11th",
          "12th",
          "HS-grad",
          "Some-college",
          "Assoc-voc",
          "Assoc-acdm",
          "Bachelors",
          "Masters",
          "Prof-school",
          "Doctorate"
         ],
         "yaxis": "y",
         "z": [
          1,
          1,
          1,
          1,
          1,
          1,
          1,
          1,
          1,
          1,
          1,
          1,
          1,
          1,
          1,
          1
         ],
         "zmax": 1,
         "zmin": 0
        },
        {
         "colorscale": [
          [
           0,
           "white"
          ],
          [
           0.3333333333333333,
           "#A7A7A7"
          ],
          [
           0.6666666666666666,
           "#7B7B7B"
          ],
          [
           1,
           "#666666"
          ]
         ],
         "showscale": false,
         "text": [
          147,
          747,
          1983,
          1133,
          3174,
          2706,
          1009,
          31158,
          21659,
          4658,
          3335,
          17821,
          4863,
          1279,
          656,
          5,
          4,
          4,
          3,
          3,
          3,
          3,
          6,
          4,
          6,
          8,
          7,
          7,
          7,
          8,
          3,
          9,
          9,
          9,
          10,
          7,
          3,
          2,
          3,
          1,
          1,
          1,
          1,
          1,
          1,
          1,
          1,
          1,
          3,
          1,
          2,
          2,
          2,
          2,
          11,
          2,
          2,
          2,
          2,
          1,
          11,
          17,
          12,
          64,
          65,
          67,
          70,
          73,
          83,
          86,
          90,
          90,
          61,
          99,
          111,
          121,
          124,
          147,
          188,
          212,
          230,
          310,
          349,
          102,
          12,
          60,
          57,
          13,
          16,
          16,
          16,
          1,
          18,
          18,
          18,
          19,
          59,
          20,
          26,
          28,
          30,
          30,
          31,
          43,
          50,
          55,
          56,
          23,
          1
         ],
         "textfont": {
          "size": 7
         },
         "texttemplate": "%{text}",
         "type": "heatmap",
         "x": [
          2,
          3,
          4,
          5,
          6,
          7,
          8,
          9,
          10,
          11,
          12,
          13,
          14,
          15,
          16,
          12,
          16,
          3,
          8,
          13,
          16,
          8,
          13,
          14,
          12,
          11,
          2,
          4,
          5,
          3,
          4,
          3,
          5,
          10,
          5,
          15,
          9,
          12,
          7,
          5,
          16,
          13,
          15,
          2,
          11,
          2,
          14,
          2,
          2,
          2,
          14,
          15,
          13,
          3,
          2,
          2,
          14,
          7,
          8,
          7,
          12,
          16,
          3,
          8,
          15,
          15,
          13,
          15,
          2,
          7,
          5,
          8,
          4,
          6,
          16,
          12,
          11,
          5,
          14,
          8,
          6,
          9,
          11,
          4,
          16,
          10,
          13,
          4,
          2,
          6,
          4,
          10,
          14,
          11,
          4,
          12,
          9,
          6,
          14,
          12,
          7,
          16,
          12,
          5,
          6,
          7,
          7,
          5,
          10
         ],
         "xaxis": "x2",
         "y": [
          "1st-4th",
          "5th-6th",
          "7th-8th",
          "9th",
          "10th",
          "11th",
          "12th",
          "HS-grad",
          "Some-college",
          "Assoc-voc",
          "Assoc-acdm",
          "Bachelors",
          "Masters",
          "Prof-school",
          "Doctorate",
          "Masters",
          "Masters",
          "9th",
          "1st-4th",
          "Masters",
          "1st-4th",
          "10th",
          "Prof-school",
          "Bachelors",
          "Some-college",
          "Some-college",
          "Doctorate",
          "Masters",
          "Prof-school",
          "11th",
          "Prof-school",
          "7th-8th",
          "10th",
          "Assoc-voc",
          "Doctorate",
          "1st-4th",
          "9th",
          "11th",
          "7th-8th",
          "5th-6th",
          "Some-college",
          "11th",
          "11th",
          "12th",
          "11th",
          "Prof-school",
          "5th-6th",
          "7th-8th",
          "Some-college",
          "Assoc-acdm",
          "1st-4th",
          "Assoc-voc",
          "1st-4th",
          "12th",
          "9th",
          "Assoc-voc",
          "Doctorate",
          "Doctorate",
          "5th-6th",
          "HS-grad",
          "Doctorate",
          "11th",
          "1st-4th",
          "7th-8th",
          "Doctorate",
          "Assoc-acdm",
          "Assoc-acdm",
          "Masters",
          "11th",
          "12th",
          "11th",
          "11th",
          "9th",
          "9th",
          "Assoc-voc",
          "Prof-school",
          "Assoc-acdm",
          "12th",
          "Prof-school",
          "9th",
          "11th",
          "11th",
          "Doctorate",
          "12th",
          "Assoc-acdm",
          "Assoc-acdm",
          "5th-6th",
          "5th-6th",
          "10th",
          "12th",
          "11th",
          "11th",
          "7th-8th",
          "Prof-school",
          "1st-4th",
          "Bachelors",
          "12th",
          "1st-4th",
          "Assoc-acdm",
          "Assoc-voc",
          "10th",
          "Prof-school",
          "1st-4th",
          "1st-4th",
          "Doctorate",
          "1st-4th",
          "9th",
          "7th-8th",
          "1st-4th"
         ],
         "yaxis": "y2",
         "z": [
          0.4273255813953488,
          0.9098660170523751,
          0.9438362684435982,
          0.7175427485750475,
          0.9820544554455446,
          0.7609673790776152,
          0.709563994374121,
          0.9999679065438557,
          0.9991696267933755,
          0.9683991683991684,
          0.9025710419485792,
          0.9987110513337817,
          0.9814328960645813,
          0.7737447065940714,
          0.5694444444444444,
          0.0010090817356205853,
          0.0008072653884964682,
          0.00253324889170361,
          0.00872093023255814,
          0.0006054490413723512,
          0.00872093023255814,
          0.0009282178217821782,
          0.003629764065335753,
          0.00022416498542927594,
          0.00027679106887484433,
          0.0003690547584997924,
          0.006076388888888889,
          0.0014127144298688194,
          0.004234724742891712,
          0.0022497187851518562,
          0.0018148820326678765,
          0.004283674440742504,
          0.0027846534653465345,
          0.0018711018711018712,
          0.008680555555555556,
          0.020348837209302327,
          0.0018999366687777073,
          0.0005624296962879641,
          0.0014278914802475012,
          0.001218026796589525,
          4.613184481247405e-05,
          0.00028121484814398203,
          0.00028121484814398203,
          0.0007032348804500703,
          0.00028121484814398203,
          0.0006049606775559589,
          0.001218026796589525,
          0.00047596382674916705,
          0.00013839553443742217,
          0.00027063599458728013,
          0.005813953488372093,
          0.0004158004158004158,
          0.005813953488372093,
          0.0014064697609001407,
          0.006966434452184927,
          0.0004158004158004158,
          0.001736111111111111,
          0.001736111111111111,
          0.00243605359317905,
          3.209345614429218e-05,
          0.009548611111111112,
          0.004780652418447694,
          0.03488372093023256,
          0.03046168491194669,
          0.05642361111111111,
          0.018132611637347768,
          0.018944519621109608,
          0.014732593340060544,
          0.023340832395950507,
          0.06047819971870605,
          0.02530933633295838,
          0.02530933633295838,
          0.038632045598480054,
          0.06269791006966434,
          0.023076923076923078,
          0.07320024198427103,
          0.033558863328822734,
          0.10337552742616034,
          0.11373260738052027,
          0.13426219126029132,
          0.06467941507311586,
          0.08717660292463442,
          0.3029513888888889,
          0.07172995780590717,
          0.003247631935047361,
          0.016238159675236806,
          0.06942752740560293,
          0.015834348355663823,
          0.0049504950495049506,
          0.011251758087201125,
          0.0044994375703037125,
          0.00028121484814398203,
          0.008567348881485007,
          0.010889292196007259,
          0.05232558139534884,
          0.0010647836807890607,
          0.04149085794655415,
          0.05813953488372093,
          0.0070365358592692825,
          0.0058212058212058215,
          0.009282178217821782,
          0.018148820326678767,
          0.09011627906976744,
          0.125,
          0.043402777777777776,
          0.15988372093023256,
          0.03546548448385054,
          0.010947168015230843,
          0.0029069767441860465
         ],
         "zmax": 1,
         "zmin": 0
        },
        {
         "colorscale": [
          [
           0,
           "white"
          ],
          [
           0.3333333333333333,
           "#A7A7A7"
          ],
          [
           0.6666666666666666,
           "#7B7B7B"
          ],
          [
           1,
           "#666666"
          ]
         ],
         "showscale": false,
         "text": [
          147,
          747,
          1983,
          1133,
          3174,
          2706,
          1009,
          31158,
          21659,
          4658,
          3335,
          17821,
          4863,
          1279,
          656,
          5,
          4,
          4,
          3,
          3,
          3,
          3,
          6,
          4,
          6,
          8,
          7,
          7,
          7,
          8,
          3,
          9,
          9,
          9,
          10,
          7,
          3,
          2,
          3,
          1,
          1,
          1,
          1,
          1,
          1,
          1,
          1,
          1,
          3,
          1,
          2,
          2,
          2,
          2,
          11,
          2,
          2,
          2,
          2,
          1,
          11,
          17,
          12,
          64,
          65,
          67,
          70,
          73,
          83,
          86,
          90,
          90,
          61,
          99,
          111,
          121,
          124,
          147,
          188,
          212,
          230,
          310,
          349,
          102,
          12,
          60,
          57,
          13,
          16,
          16,
          16,
          1,
          18,
          18,
          18,
          19,
          59,
          20,
          26,
          28,
          30,
          30,
          31,
          43,
          50,
          55,
          56,
          23,
          1
         ],
         "textfont": {
          "size": 7
         },
         "texttemplate": "%{text}",
         "type": "heatmap",
         "x": [
          2,
          3,
          4,
          5,
          6,
          7,
          8,
          9,
          10,
          11,
          12,
          13,
          14,
          15,
          16,
          12,
          16,
          3,
          8,
          13,
          16,
          8,
          13,
          14,
          12,
          11,
          2,
          4,
          5,
          3,
          4,
          3,
          5,
          10,
          5,
          15,
          9,
          12,
          7,
          5,
          16,
          13,
          15,
          2,
          11,
          2,
          14,
          2,
          2,
          2,
          14,
          15,
          13,
          3,
          2,
          2,
          14,
          7,
          8,
          7,
          12,
          16,
          3,
          8,
          15,
          15,
          13,
          15,
          2,
          7,
          5,
          8,
          4,
          6,
          16,
          12,
          11,
          5,
          14,
          8,
          6,
          9,
          11,
          4,
          16,
          10,
          13,
          4,
          2,
          6,
          4,
          10,
          14,
          11,
          4,
          12,
          9,
          6,
          14,
          12,
          7,
          16,
          12,
          5,
          6,
          7,
          7,
          5,
          10
         ],
         "xaxis": "x3",
         "y": [
          "1st-4th",
          "5th-6th",
          "7th-8th",
          "9th",
          "10th",
          "11th",
          "12th",
          "HS-grad",
          "Some-college",
          "Assoc-voc",
          "Assoc-acdm",
          "Bachelors",
          "Masters",
          "Prof-school",
          "Doctorate",
          "Masters",
          "Masters",
          "9th",
          "1st-4th",
          "Masters",
          "1st-4th",
          "10th",
          "Prof-school",
          "Bachelors",
          "Some-college",
          "Some-college",
          "Doctorate",
          "Masters",
          "Prof-school",
          "11th",
          "Prof-school",
          "7th-8th",
          "10th",
          "Assoc-voc",
          "Doctorate",
          "1st-4th",
          "9th",
          "11th",
          "7th-8th",
          "5th-6th",
          "Some-college",
          "11th",
          "11th",
          "12th",
          "11th",
          "Prof-school",
          "5th-6th",
          "7th-8th",
          "Some-college",
          "Assoc-acdm",
          "1st-4th",
          "Assoc-voc",
          "1st-4th",
          "12th",
          "9th",
          "Assoc-voc",
          "Doctorate",
          "Doctorate",
          "5th-6th",
          "HS-grad",
          "Doctorate",
          "11th",
          "1st-4th",
          "7th-8th",
          "Doctorate",
          "Assoc-acdm",
          "Assoc-acdm",
          "Masters",
          "11th",
          "12th",
          "11th",
          "11th",
          "9th",
          "9th",
          "Assoc-voc",
          "Prof-school",
          "Assoc-acdm",
          "12th",
          "Prof-school",
          "9th",
          "11th",
          "11th",
          "Doctorate",
          "12th",
          "Assoc-acdm",
          "Assoc-acdm",
          "5th-6th",
          "5th-6th",
          "10th",
          "12th",
          "11th",
          "11th",
          "7th-8th",
          "Prof-school",
          "1st-4th",
          "Bachelors",
          "12th",
          "1st-4th",
          "Assoc-acdm",
          "Assoc-voc",
          "10th",
          "Prof-school",
          "1st-4th",
          "1st-4th",
          "Doctorate",
          "1st-4th",
          "9th",
          "7th-8th",
          "1st-4th"
         ],
         "yaxis": "y3",
         "z": [
          0.4273255813953488,
          0.9098660170523751,
          0.9438362684435982,
          0.7175427485750475,
          0.9820544554455446,
          0.7609673790776152,
          0.709563994374121,
          0.9999679065438557,
          0.9991696267933755,
          0.9683991683991684,
          0.9025710419485792,
          0.9987110513337817,
          0.9814328960645813,
          0.7737447065940714,
          0.5694444444444444,
          0.0010090817356205853,
          0.0008072653884964682,
          0.00253324889170361,
          0.00872093023255814,
          0.0006054490413723512,
          0.00872093023255814,
          0.0009282178217821782,
          0.003629764065335753,
          0.00022416498542927594,
          0.00027679106887484433,
          0.0003690547584997924,
          0.006076388888888889,
          0.0014127144298688194,
          0.004234724742891712,
          0.0022497187851518562,
          0.0018148820326678765,
          0.004283674440742504,
          0.0027846534653465345,
          0.0018711018711018712,
          0.008680555555555556,
          0.020348837209302327,
          0.0018999366687777073,
          0.0005624296962879641,
          0.0014278914802475012,
          0.001218026796589525,
          4.613184481247405e-05,
          0.00028121484814398203,
          0.00028121484814398203,
          0.0007032348804500703,
          0.00028121484814398203,
          0.0006049606775559589,
          0.001218026796589525,
          0.00047596382674916705,
          0.00013839553443742217,
          0.00027063599458728013,
          0.005813953488372093,
          0.0004158004158004158,
          0.005813953488372093,
          0.0014064697609001407,
          0.006966434452184927,
          0.0004158004158004158,
          0.001736111111111111,
          0.001736111111111111,
          0.00243605359317905,
          3.209345614429218e-05,
          0.009548611111111112,
          0.004780652418447694,
          0.03488372093023256,
          0.03046168491194669,
          0.05642361111111111,
          0.018132611637347768,
          0.018944519621109608,
          0.014732593340060544,
          0.023340832395950507,
          0.06047819971870605,
          0.02530933633295838,
          0.02530933633295838,
          0.038632045598480054,
          0.06269791006966434,
          0.023076923076923078,
          0.07320024198427103,
          0.033558863328822734,
          0.10337552742616034,
          0.11373260738052027,
          0.13426219126029132,
          0.06467941507311586,
          0.08717660292463442,
          0.3029513888888889,
          0.07172995780590717,
          0.003247631935047361,
          0.016238159675236806,
          0.06942752740560293,
          0.015834348355663823,
          0.0049504950495049506,
          0.011251758087201125,
          0.0044994375703037125,
          0.00028121484814398203,
          0.008567348881485007,
          0.010889292196007259,
          0.05232558139534884,
          0.0010647836807890607,
          0.04149085794655415,
          0.05813953488372093,
          0.0070365358592692825,
          0.0058212058212058215,
          0.009282178217821782,
          0.018148820326678767,
          0.09011627906976744,
          0.125,
          0.043402777777777776,
          0.15988372093023256,
          0.03546548448385054,
          0.010947168015230843,
          0.0029069767441860465
         ],
         "zmax": 1,
         "zmin": 0
        },
        {
         "colorscale": [
          [
           0,
           "white"
          ],
          [
           0.3333333333333333,
           "#A7A7A7"
          ],
          [
           0.6666666666666666,
           "#7B7B7B"
          ],
          [
           1,
           "#666666"
          ]
         ],
         "showscale": false,
         "text": [
          147,
          747,
          1983,
          1133,
          3174,
          2706,
          1009,
          31158,
          21659,
          4658,
          3335,
          17821,
          4863,
          1279,
          656,
          5,
          4,
          4,
          3,
          3,
          3,
          3,
          6,
          4,
          6,
          8,
          7,
          7,
          7,
          8,
          3,
          9,
          9,
          9,
          10,
          7,
          3,
          2,
          3,
          1,
          1,
          1,
          1,
          1,
          1,
          1,
          1,
          1,
          3,
          1,
          2,
          2,
          2,
          2,
          11,
          2,
          2,
          2,
          2,
          1,
          11,
          17,
          12,
          64,
          65,
          67,
          70,
          73,
          83,
          86,
          90,
          90,
          61,
          99,
          111,
          121,
          124,
          147,
          188,
          212,
          230,
          310,
          349,
          102,
          12,
          60,
          57,
          13,
          16,
          16,
          16,
          1,
          18,
          18,
          18,
          19,
          59,
          20,
          26,
          28,
          30,
          30,
          31,
          43,
          50,
          55,
          56,
          23,
          1
         ],
         "textfont": {
          "size": 7
         },
         "texttemplate": "%{text}",
         "type": "heatmap",
         "x": [
          2,
          3,
          4,
          5,
          6,
          7,
          8,
          9,
          10,
          11,
          12,
          13,
          14,
          15,
          16,
          12,
          16,
          3,
          8,
          13,
          16,
          8,
          13,
          14,
          12,
          11,
          2,
          4,
          5,
          3,
          4,
          3,
          5,
          10,
          5,
          15,
          9,
          12,
          7,
          5,
          16,
          13,
          15,
          2,
          11,
          2,
          14,
          2,
          2,
          2,
          14,
          15,
          13,
          3,
          2,
          2,
          14,
          7,
          8,
          7,
          12,
          16,
          3,
          8,
          15,
          15,
          13,
          15,
          2,
          7,
          5,
          8,
          4,
          6,
          16,
          12,
          11,
          5,
          14,
          8,
          6,
          9,
          11,
          4,
          16,
          10,
          13,
          4,
          2,
          6,
          4,
          10,
          14,
          11,
          4,
          12,
          9,
          6,
          14,
          12,
          7,
          16,
          12,
          5,
          6,
          7,
          7,
          5,
          10
         ],
         "xaxis": "x4",
         "y": [
          "1st-4th",
          "5th-6th",
          "7th-8th",
          "9th",
          "10th",
          "11th",
          "12th",
          "HS-grad",
          "Some-college",
          "Assoc-voc",
          "Assoc-acdm",
          "Bachelors",
          "Masters",
          "Prof-school",
          "Doctorate",
          "Masters",
          "Masters",
          "9th",
          "1st-4th",
          "Masters",
          "1st-4th",
          "10th",
          "Prof-school",
          "Bachelors",
          "Some-college",
          "Some-college",
          "Doctorate",
          "Masters",
          "Prof-school",
          "11th",
          "Prof-school",
          "7th-8th",
          "10th",
          "Assoc-voc",
          "Doctorate",
          "1st-4th",
          "9th",
          "11th",
          "7th-8th",
          "5th-6th",
          "Some-college",
          "11th",
          "11th",
          "12th",
          "11th",
          "Prof-school",
          "5th-6th",
          "7th-8th",
          "Some-college",
          "Assoc-acdm",
          "1st-4th",
          "Assoc-voc",
          "1st-4th",
          "12th",
          "9th",
          "Assoc-voc",
          "Doctorate",
          "Doctorate",
          "5th-6th",
          "HS-grad",
          "Doctorate",
          "11th",
          "1st-4th",
          "7th-8th",
          "Doctorate",
          "Assoc-acdm",
          "Assoc-acdm",
          "Masters",
          "11th",
          "12th",
          "11th",
          "11th",
          "9th",
          "9th",
          "Assoc-voc",
          "Prof-school",
          "Assoc-acdm",
          "12th",
          "Prof-school",
          "9th",
          "11th",
          "11th",
          "Doctorate",
          "12th",
          "Assoc-acdm",
          "Assoc-acdm",
          "5th-6th",
          "5th-6th",
          "10th",
          "12th",
          "11th",
          "11th",
          "7th-8th",
          "Prof-school",
          "1st-4th",
          "Bachelors",
          "12th",
          "1st-4th",
          "Assoc-acdm",
          "Assoc-voc",
          "10th",
          "Prof-school",
          "1st-4th",
          "1st-4th",
          "Doctorate",
          "1st-4th",
          "9th",
          "7th-8th",
          "1st-4th"
         ],
         "yaxis": "y4",
         "z": [
          0.4273255813953488,
          0.9098660170523751,
          0.9438362684435982,
          0.7175427485750475,
          0.9820544554455446,
          0.7609673790776152,
          0.709563994374121,
          0.9999679065438557,
          0.9991696267933755,
          0.9683991683991684,
          0.9025710419485792,
          0.9987110513337817,
          0.9814328960645813,
          0.7737447065940714,
          0.5694444444444444,
          0.0010090817356205853,
          0.0008072653884964682,
          0.00253324889170361,
          0.00872093023255814,
          0.0006054490413723512,
          0.00872093023255814,
          0.0009282178217821782,
          0.003629764065335753,
          0.00022416498542927594,
          0.00027679106887484433,
          0.0003690547584997924,
          0.006076388888888889,
          0.0014127144298688194,
          0.004234724742891712,
          0.0022497187851518562,
          0.0018148820326678765,
          0.004283674440742504,
          0.0027846534653465345,
          0.0018711018711018712,
          0.008680555555555556,
          0.020348837209302327,
          0.0018999366687777073,
          0.0005624296962879641,
          0.0014278914802475012,
          0.001218026796589525,
          4.613184481247405e-05,
          0.00028121484814398203,
          0.00028121484814398203,
          0.0007032348804500703,
          0.00028121484814398203,
          0.0006049606775559589,
          0.001218026796589525,
          0.00047596382674916705,
          0.00013839553443742217,
          0.00027063599458728013,
          0.005813953488372093,
          0.0004158004158004158,
          0.005813953488372093,
          0.0014064697609001407,
          0.006966434452184927,
          0.0004158004158004158,
          0.001736111111111111,
          0.001736111111111111,
          0.00243605359317905,
          3.209345614429218e-05,
          0.009548611111111112,
          0.004780652418447694,
          0.03488372093023256,
          0.03046168491194669,
          0.05642361111111111,
          0.018132611637347768,
          0.018944519621109608,
          0.014732593340060544,
          0.023340832395950507,
          0.06047819971870605,
          0.02530933633295838,
          0.02530933633295838,
          0.038632045598480054,
          0.06269791006966434,
          0.023076923076923078,
          0.07320024198427103,
          0.033558863328822734,
          0.10337552742616034,
          0.11373260738052027,
          0.13426219126029132,
          0.06467941507311586,
          0.08717660292463442,
          0.3029513888888889,
          0.07172995780590717,
          0.003247631935047361,
          0.016238159675236806,
          0.06942752740560293,
          0.015834348355663823,
          0.0049504950495049506,
          0.011251758087201125,
          0.0044994375703037125,
          0.00028121484814398203,
          0.008567348881485007,
          0.010889292196007259,
          0.05232558139534884,
          0.0010647836807890607,
          0.04149085794655415,
          0.05813953488372093,
          0.0070365358592692825,
          0.0058212058212058215,
          0.009282178217821782,
          0.018148820326678767,
          0.09011627906976744,
          0.125,
          0.043402777777777776,
          0.15988372093023256,
          0.03546548448385054,
          0.010947168015230843,
          0.0029069767441860465
         ],
         "zmax": 1,
         "zmin": 0
        }
       ],
       "layout": {
        "annotations": [
         {
          "font": {
           "size": 16
          },
          "showarrow": false,
          "text": "target",
          "x": 0.2375,
          "xanchor": "center",
          "xref": "paper",
          "y": 1,
          "yanchor": "bottom",
          "yref": "paper"
         },
         {
          "font": {
           "size": 16
          },
          "showarrow": false,
          "text": "synthetic w/o rules",
          "x": 0.7625,
          "xanchor": "center",
          "xref": "paper",
          "y": 1,
          "yanchor": "bottom",
          "yref": "paper"
         },
         {
          "font": {
           "size": 16
          },
          "showarrow": false,
          "text": "synthetic w/ loss component",
          "x": 0.2375,
          "xanchor": "center",
          "xref": "paper",
          "y": 0.45,
          "yanchor": "bottom",
          "yref": "paper"
         },
         {
          "font": {
           "size": 16
          },
          "showarrow": false,
          "text": "synthetic w/ rule adherence",
          "x": 0.7625,
          "xanchor": "center",
          "xref": "paper",
          "y": 0.45,
          "yanchor": "bottom",
          "yref": "paper"
         }
        ],
        "autosize": false,
        "height": 900,
        "margin": {
         "b": 10,
         "l": 10,
         "pad": 5,
         "r": 10,
         "t": 80
        },
        "plot_bgcolor": "rgba(0, 0, 0, 0)",
        "showlegend": false,
        "template": {
         "data": {
          "bar": [
           {
            "error_x": {
             "color": "#2a3f5f"
            },
            "error_y": {
             "color": "#2a3f5f"
            },
            "marker": {
             "line": {
              "color": "#E5ECF6",
              "width": 0.5
             },
             "pattern": {
              "fillmode": "overlay",
              "size": 10,
              "solidity": 0.2
             }
            },
            "type": "bar"
           }
          ],
          "barpolar": [
           {
            "marker": {
             "line": {
              "color": "#E5ECF6",
              "width": 0.5
             },
             "pattern": {
              "fillmode": "overlay",
              "size": 10,
              "solidity": 0.2
             }
            },
            "type": "barpolar"
           }
          ],
          "carpet": [
           {
            "aaxis": {
             "endlinecolor": "#2a3f5f",
             "gridcolor": "white",
             "linecolor": "white",
             "minorgridcolor": "white",
             "startlinecolor": "#2a3f5f"
            },
            "baxis": {
             "endlinecolor": "#2a3f5f",
             "gridcolor": "white",
             "linecolor": "white",
             "minorgridcolor": "white",
             "startlinecolor": "#2a3f5f"
            },
            "type": "carpet"
           }
          ],
          "choropleth": [
           {
            "colorbar": {
             "outlinewidth": 0,
             "ticks": ""
            },
            "type": "choropleth"
           }
          ],
          "contour": [
           {
            "colorbar": {
             "outlinewidth": 0,
             "ticks": ""
            },
            "colorscale": [
             [
              0,
              "#0d0887"
             ],
             [
              0.1111111111111111,
              "#46039f"
             ],
             [
              0.2222222222222222,
              "#7201a8"
             ],
             [
              0.3333333333333333,
              "#9c179e"
             ],
             [
              0.4444444444444444,
              "#bd3786"
             ],
             [
              0.5555555555555556,
              "#d8576b"
             ],
             [
              0.6666666666666666,
              "#ed7953"
             ],
             [
              0.7777777777777778,
              "#fb9f3a"
             ],
             [
              0.8888888888888888,
              "#fdca26"
             ],
             [
              1,
              "#f0f921"
             ]
            ],
            "type": "contour"
           }
          ],
          "contourcarpet": [
           {
            "colorbar": {
             "outlinewidth": 0,
             "ticks": ""
            },
            "type": "contourcarpet"
           }
          ],
          "heatmap": [
           {
            "colorbar": {
             "outlinewidth": 0,
             "ticks": ""
            },
            "colorscale": [
             [
              0,
              "#0d0887"
             ],
             [
              0.1111111111111111,
              "#46039f"
             ],
             [
              0.2222222222222222,
              "#7201a8"
             ],
             [
              0.3333333333333333,
              "#9c179e"
             ],
             [
              0.4444444444444444,
              "#bd3786"
             ],
             [
              0.5555555555555556,
              "#d8576b"
             ],
             [
              0.6666666666666666,
              "#ed7953"
             ],
             [
              0.7777777777777778,
              "#fb9f3a"
             ],
             [
              0.8888888888888888,
              "#fdca26"
             ],
             [
              1,
              "#f0f921"
             ]
            ],
            "type": "heatmap"
           }
          ],
          "heatmapgl": [
           {
            "colorbar": {
             "outlinewidth": 0,
             "ticks": ""
            },
            "colorscale": [
             [
              0,
              "#0d0887"
             ],
             [
              0.1111111111111111,
              "#46039f"
             ],
             [
              0.2222222222222222,
              "#7201a8"
             ],
             [
              0.3333333333333333,
              "#9c179e"
             ],
             [
              0.4444444444444444,
              "#bd3786"
             ],
             [
              0.5555555555555556,
              "#d8576b"
             ],
             [
              0.6666666666666666,
              "#ed7953"
             ],
             [
              0.7777777777777778,
              "#fb9f3a"
             ],
             [
              0.8888888888888888,
              "#fdca26"
             ],
             [
              1,
              "#f0f921"
             ]
            ],
            "type": "heatmapgl"
           }
          ],
          "histogram": [
           {
            "marker": {
             "pattern": {
              "fillmode": "overlay",
              "size": 10,
              "solidity": 0.2
             }
            },
            "type": "histogram"
           }
          ],
          "histogram2d": [
           {
            "colorbar": {
             "outlinewidth": 0,
             "ticks": ""
            },
            "colorscale": [
             [
              0,
              "#0d0887"
             ],
             [
              0.1111111111111111,
              "#46039f"
             ],
             [
              0.2222222222222222,
              "#7201a8"
             ],
             [
              0.3333333333333333,
              "#9c179e"
             ],
             [
              0.4444444444444444,
              "#bd3786"
             ],
             [
              0.5555555555555556,
              "#d8576b"
             ],
             [
              0.6666666666666666,
              "#ed7953"
             ],
             [
              0.7777777777777778,
              "#fb9f3a"
             ],
             [
              0.8888888888888888,
              "#fdca26"
             ],
             [
              1,
              "#f0f921"
             ]
            ],
            "type": "histogram2d"
           }
          ],
          "histogram2dcontour": [
           {
            "colorbar": {
             "outlinewidth": 0,
             "ticks": ""
            },
            "colorscale": [
             [
              0,
              "#0d0887"
             ],
             [
              0.1111111111111111,
              "#46039f"
             ],
             [
              0.2222222222222222,
              "#7201a8"
             ],
             [
              0.3333333333333333,
              "#9c179e"
             ],
             [
              0.4444444444444444,
              "#bd3786"
             ],
             [
              0.5555555555555556,
              "#d8576b"
             ],
             [
              0.6666666666666666,
              "#ed7953"
             ],
             [
              0.7777777777777778,
              "#fb9f3a"
             ],
             [
              0.8888888888888888,
              "#fdca26"
             ],
             [
              1,
              "#f0f921"
             ]
            ],
            "type": "histogram2dcontour"
           }
          ],
          "mesh3d": [
           {
            "colorbar": {
             "outlinewidth": 0,
             "ticks": ""
            },
            "type": "mesh3d"
           }
          ],
          "parcoords": [
           {
            "line": {
             "colorbar": {
              "outlinewidth": 0,
              "ticks": ""
             }
            },
            "type": "parcoords"
           }
          ],
          "pie": [
           {
            "automargin": true,
            "type": "pie"
           }
          ],
          "scatter": [
           {
            "marker": {
             "colorbar": {
              "outlinewidth": 0,
              "ticks": ""
             }
            },
            "type": "scatter"
           }
          ],
          "scatter3d": [
           {
            "line": {
             "colorbar": {
              "outlinewidth": 0,
              "ticks": ""
             }
            },
            "marker": {
             "colorbar": {
              "outlinewidth": 0,
              "ticks": ""
             }
            },
            "type": "scatter3d"
           }
          ],
          "scattercarpet": [
           {
            "marker": {
             "colorbar": {
              "outlinewidth": 0,
              "ticks": ""
             }
            },
            "type": "scattercarpet"
           }
          ],
          "scattergeo": [
           {
            "marker": {
             "colorbar": {
              "outlinewidth": 0,
              "ticks": ""
             }
            },
            "type": "scattergeo"
           }
          ],
          "scattergl": [
           {
            "marker": {
             "colorbar": {
              "outlinewidth": 0,
              "ticks": ""
             }
            },
            "type": "scattergl"
           }
          ],
          "scattermapbox": [
           {
            "marker": {
             "colorbar": {
              "outlinewidth": 0,
              "ticks": ""
             }
            },
            "type": "scattermapbox"
           }
          ],
          "scatterpolar": [
           {
            "marker": {
             "colorbar": {
              "outlinewidth": 0,
              "ticks": ""
             }
            },
            "type": "scatterpolar"
           }
          ],
          "scatterpolargl": [
           {
            "marker": {
             "colorbar": {
              "outlinewidth": 0,
              "ticks": ""
             }
            },
            "type": "scatterpolargl"
           }
          ],
          "scatterternary": [
           {
            "marker": {
             "colorbar": {
              "outlinewidth": 0,
              "ticks": ""
             }
            },
            "type": "scatterternary"
           }
          ],
          "surface": [
           {
            "colorbar": {
             "outlinewidth": 0,
             "ticks": ""
            },
            "colorscale": [
             [
              0,
              "#0d0887"
             ],
             [
              0.1111111111111111,
              "#46039f"
             ],
             [
              0.2222222222222222,
              "#7201a8"
             ],
             [
              0.3333333333333333,
              "#9c179e"
             ],
             [
              0.4444444444444444,
              "#bd3786"
             ],
             [
              0.5555555555555556,
              "#d8576b"
             ],
             [
              0.6666666666666666,
              "#ed7953"
             ],
             [
              0.7777777777777778,
              "#fb9f3a"
             ],
             [
              0.8888888888888888,
              "#fdca26"
             ],
             [
              1,
              "#f0f921"
             ]
            ],
            "type": "surface"
           }
          ],
          "table": [
           {
            "cells": {
             "fill": {
              "color": "#EBF0F8"
             },
             "line": {
              "color": "white"
             }
            },
            "header": {
             "fill": {
              "color": "#C8D4E3"
             },
             "line": {
              "color": "white"
             }
            },
            "type": "table"
           }
          ]
         },
         "layout": {
          "annotationdefaults": {
           "arrowcolor": "#2a3f5f",
           "arrowhead": 0,
           "arrowwidth": 1
          },
          "autotypenumbers": "strict",
          "coloraxis": {
           "colorbar": {
            "outlinewidth": 0,
            "ticks": ""
           }
          },
          "colorscale": {
           "diverging": [
            [
             0,
             "#8e0152"
            ],
            [
             0.1,
             "#c51b7d"
            ],
            [
             0.2,
             "#de77ae"
            ],
            [
             0.3,
             "#f1b6da"
            ],
            [
             0.4,
             "#fde0ef"
            ],
            [
             0.5,
             "#f7f7f7"
            ],
            [
             0.6,
             "#e6f5d0"
            ],
            [
             0.7,
             "#b8e186"
            ],
            [
             0.8,
             "#7fbc41"
            ],
            [
             0.9,
             "#4d9221"
            ],
            [
             1,
             "#276419"
            ]
           ],
           "sequential": [
            [
             0,
             "#0d0887"
            ],
            [
             0.1111111111111111,
             "#46039f"
            ],
            [
             0.2222222222222222,
             "#7201a8"
            ],
            [
             0.3333333333333333,
             "#9c179e"
            ],
            [
             0.4444444444444444,
             "#bd3786"
            ],
            [
             0.5555555555555556,
             "#d8576b"
            ],
            [
             0.6666666666666666,
             "#ed7953"
            ],
            [
             0.7777777777777778,
             "#fb9f3a"
            ],
            [
             0.8888888888888888,
             "#fdca26"
            ],
            [
             1,
             "#f0f921"
            ]
           ],
           "sequentialminus": [
            [
             0,
             "#0d0887"
            ],
            [
             0.1111111111111111,
             "#46039f"
            ],
            [
             0.2222222222222222,
             "#7201a8"
            ],
            [
             0.3333333333333333,
             "#9c179e"
            ],
            [
             0.4444444444444444,
             "#bd3786"
            ],
            [
             0.5555555555555556,
             "#d8576b"
            ],
            [
             0.6666666666666666,
             "#ed7953"
            ],
            [
             0.7777777777777778,
             "#fb9f3a"
            ],
            [
             0.8888888888888888,
             "#fdca26"
            ],
            [
             1,
             "#f0f921"
            ]
           ]
          },
          "colorway": [
           "#636efa",
           "#EF553B",
           "#00cc96",
           "#ab63fa",
           "#FFA15A",
           "#19d3f3",
           "#FF6692",
           "#B6E880",
           "#FF97FF",
           "#FECB52"
          ],
          "font": {
           "color": "#2a3f5f"
          },
          "geo": {
           "bgcolor": "white",
           "lakecolor": "white",
           "landcolor": "#E5ECF6",
           "showlakes": true,
           "showland": true,
           "subunitcolor": "white"
          },
          "hoverlabel": {
           "align": "left"
          },
          "hovermode": "closest",
          "mapbox": {
           "style": "light"
          },
          "paper_bgcolor": "white",
          "plot_bgcolor": "#E5ECF6",
          "polar": {
           "angularaxis": {
            "gridcolor": "white",
            "linecolor": "white",
            "ticks": ""
           },
           "bgcolor": "#E5ECF6",
           "radialaxis": {
            "gridcolor": "white",
            "linecolor": "white",
            "ticks": ""
           }
          },
          "scene": {
           "xaxis": {
            "backgroundcolor": "#E5ECF6",
            "gridcolor": "white",
            "gridwidth": 2,
            "linecolor": "white",
            "showbackground": true,
            "ticks": "",
            "zerolinecolor": "white"
           },
           "yaxis": {
            "backgroundcolor": "#E5ECF6",
            "gridcolor": "white",
            "gridwidth": 2,
            "linecolor": "white",
            "showbackground": true,
            "ticks": "",
            "zerolinecolor": "white"
           },
           "zaxis": {
            "backgroundcolor": "#E5ECF6",
            "gridcolor": "white",
            "gridwidth": 2,
            "linecolor": "white",
            "showbackground": true,
            "ticks": "",
            "zerolinecolor": "white"
           }
          },
          "shapedefaults": {
           "line": {
            "color": "#2a3f5f"
           }
          },
          "ternary": {
           "aaxis": {
            "gridcolor": "white",
            "linecolor": "white",
            "ticks": ""
           },
           "baxis": {
            "gridcolor": "white",
            "linecolor": "white",
            "ticks": ""
           },
           "bgcolor": "#E5ECF6",
           "caxis": {
            "gridcolor": "white",
            "linecolor": "white",
            "ticks": ""
           }
          },
          "title": {
           "x": 0.05
          },
          "xaxis": {
           "automargin": true,
           "gridcolor": "white",
           "linecolor": "white",
           "ticks": "",
           "title": {
            "standoff": 15
           },
           "zerolinecolor": "white",
           "zerolinewidth": 2
          },
          "yaxis": {
           "automargin": true,
           "gridcolor": "white",
           "linecolor": "white",
           "ticks": "",
           "title": {
            "standoff": 15
           },
           "zerolinecolor": "white",
           "zerolinewidth": 2
          }
         }
        },
        "title": {
         "text": "education ~ education-num"
        },
        "width": 1100,
        "xaxis": {
         "anchor": "y",
         "autorange": true,
         "domain": [
          0,
          0.475
         ],
         "matches": "x3",
         "range": [
          -0.5,
          15.5
         ],
         "showticklabels": true,
         "tickangle": 0,
         "type": "category"
        },
        "xaxis2": {
         "anchor": "y2",
         "autorange": true,
         "domain": [
          0.525,
          1
         ],
         "matches": "x4",
         "range": [
          -0.5,
          14.5
         ],
         "showticklabels": true,
         "tickangle": 0,
         "type": "category"
        },
        "xaxis3": {
         "anchor": "y3",
         "autorange": true,
         "domain": [
          0,
          0.475
         ],
         "range": [
          -0.5,
          15.5
         ],
         "showticklabels": true,
         "tickangle": 0,
         "type": "category"
        },
        "xaxis4": {
         "anchor": "y4",
         "autorange": true,
         "domain": [
          0.525,
          1
         ],
         "range": [
          -0.5,
          14.5
         ],
         "showticklabels": true,
         "tickangle": 0,
         "type": "category"
        },
        "yaxis": {
         "anchor": "x",
         "autorange": true,
         "domain": [
          0.55,
          1
         ],
         "range": [
          -0.5,
          15.5
         ],
         "type": "category"
        },
        "yaxis2": {
         "anchor": "x2",
         "autorange": true,
         "domain": [
          0.55,
          1
         ],
         "matches": "y",
         "range": [
          -0.5,
          15.5
         ],
         "showticklabels": false,
         "type": "category"
        },
        "yaxis3": {
         "anchor": "x3",
         "autorange": true,
         "domain": [
          0,
          0.45
         ],
         "range": [
          -0.5,
          14.5
         ],
         "type": "category"
        },
        "yaxis4": {
         "anchor": "x4",
         "autorange": true,
         "domain": [
          0,
          0.45
         ],
         "matches": "y3",
         "range": [
          -0.5,
          14.5
         ],
         "showticklabels": false,
         "type": "category"
        }
       }
      },
      "image/png": "[encoded data removed]",
      "text/html": [
       "<div>                            <div id=\"a28a7df4-4feb-47fe-b05d-e093e24165e1\" class=\"plotly-graph-div\" style=\"height:900px; width:1100px;\"></div>            <script type=\"text/javascript\">                require([\"plotly\"], function(Plotly) {                    window.PLOTLYENV=window.PLOTLYENV || {};                                    if (document.getElementById(\"a28a7df4-4feb-47fe-b05d-e093e24165e1\")) {                    Plotly.newPlot(                        \"a28a7df4-4feb-47fe-b05d-e093e24165e1\",                        [{\"colorscale\":[[0.0,\"white\"],[0.3333333333333333,\"#A7A7A7\"],[0.6666666666666666,\"#7B7B7B\"],[1.0,\"#666666\"]],\"showscale\":false,\"text\":[2,8,19,44,30,63,63,31,622,464,94,72,334,97,32,25],\"textfont\":{\"size\":7},\"texttemplate\":\"%{text}\",\"x\":[1,2,3,4,5,6,7,8,9,10,11,12,13,14,15,16],\"y\":[\"Preschool\",\"1st-4th\",\"5th-6th\",\"7th-8th\",\"9th\",\"10th\",\"11th\",\"12th\",\"HS-grad\",\"Some-college\",\"Assoc-voc\",\"Assoc-acdm\",\"Bachelors\",\"Masters\",\"Prof-school\",\"Doctorate\"],\"z\":[1.0,1.0,1.0,1.0,1.0,1.0,1.0,1.0,1.0,1.0,1.0,1.0,1.0,1.0,1.0,1.0],\"zmax\":1,\"zmin\":0,\"type\":\"heatmap\",\"xaxis\":\"x\",\"yaxis\":\"y\"},{\"colorscale\":[[0.0,\"white\"],[0.3333333333333333,\"#A7A7A7\"],[0.6666666666666666,\"#7B7B7B\"],[1.0,\"#666666\"]],\"showscale\":false,\"text\":[147,747,1983,1133,3174,2706,1009,31158,21659,4658,3335,17821,4863,1279,656,5,4,4,3,3,3,3,6,4,6,8,7,7,7,8,3,9,9,9,10,7,3,2,3,1,1,1,1,1,1,1,1,1,3,1,2,2,2,2,11,2,2,2,2,1,11,17,12,64,65,67,70,73,83,86,90,90,61,99,111,121,124,147,188,212,230,310,349,102,12,60,57,13,16,16,16,1,18,18,18,19,59,20,26,28,30,30,31,43,50,55,56,23,1],\"textfont\":{\"size\":7},\"texttemplate\":\"%{text}\",\"x\":[2,3,4,5,6,7,8,9,10,11,12,13,14,15,16,12,16,3,8,13,16,8,13,14,12,11,2,4,5,3,4,3,5,10,5,15,9,12,7,5,16,13,15,2,11,2,14,2,2,2,14,15,13,3,2,2,14,7,8,7,12,16,3,8,15,15,13,15,2,7,5,8,4,6,16,12,11,5,14,8,6,9,11,4,16,10,13,4,2,6,4,10,14,11,4,12,9,6,14,12,7,16,12,5,6,7,7,5,10],\"y\":[\"1st-4th\",\"5th-6th\",\"7th-8th\",\"9th\",\"10th\",\"11th\",\"12th\",\"HS-grad\",\"Some-college\",\"Assoc-voc\",\"Assoc-acdm\",\"Bachelors\",\"Masters\",\"Prof-school\",\"Doctorate\",\"Masters\",\"Masters\",\"9th\",\"1st-4th\",\"Masters\",\"1st-4th\",\"10th\",\"Prof-school\",\"Bachelors\",\"Some-college\",\"Some-college\",\"Doctorate\",\"Masters\",\"Prof-school\",\"11th\",\"Prof-school\",\"7th-8th\",\"10th\",\"Assoc-voc\",\"Doctorate\",\"1st-4th\",\"9th\",\"11th\",\"7th-8th\",\"5th-6th\",\"Some-college\",\"11th\",\"11th\",\"12th\",\"11th\",\"Prof-school\",\"5th-6th\",\"7th-8th\",\"Some-college\",\"Assoc-acdm\",\"1st-4th\",\"Assoc-voc\",\"1st-4th\",\"12th\",\"9th\",\"Assoc-voc\",\"Doctorate\",\"Doctorate\",\"5th-6th\",\"HS-grad\",\"Doctorate\",\"11th\",\"1st-4th\",\"7th-8th\",\"Doctorate\",\"Assoc-acdm\",\"Assoc-acdm\",\"Masters\",\"11th\",\"12th\",\"11th\",\"11th\",\"9th\",\"9th\",\"Assoc-voc\",\"Prof-school\",\"Assoc-acdm\",\"12th\",\"Prof-school\",\"9th\",\"11th\",\"11th\",\"Doctorate\",\"12th\",\"Assoc-acdm\",\"Assoc-acdm\",\"5th-6th\",\"5th-6th\",\"10th\",\"12th\",\"11th\",\"11th\",\"7th-8th\",\"Prof-school\",\"1st-4th\",\"Bachelors\",\"12th\",\"1st-4th\",\"Assoc-acdm\",\"Assoc-voc\",\"10th\",\"Prof-school\",\"1st-4th\",\"1st-4th\",\"Doctorate\",\"1st-4th\",\"9th\",\"7th-8th\",\"1st-4th\"],\"z\":[0.4273255813953488,0.9098660170523751,0.9438362684435982,0.7175427485750475,0.9820544554455446,0.7609673790776152,0.709563994374121,0.9999679065438557,0.9991696267933755,0.9683991683991684,0.9025710419485792,0.9987110513337817,0.9814328960645813,0.7737447065940714,0.5694444444444444,0.0010090817356205853,0.0008072653884964682,0.00253324889170361,0.00872093023255814,0.0006054490413723512,0.00872093023255814,0.0009282178217821782,0.003629764065335753,0.00022416498542927594,0.00027679106887484433,0.0003690547584997924,0.006076388888888889,0.0014127144298688194,0.004234724742891712,0.0022497187851518562,0.0018148820326678765,0.004283674440742504,0.0027846534653465345,0.0018711018711018712,0.008680555555555556,0.020348837209302327,0.0018999366687777073,0.0005624296962879641,0.0014278914802475012,0.001218026796589525,4.613184481247405e-05,0.00028121484814398203,0.00028121484814398203,0.0007032348804500703,0.00028121484814398203,0.0006049606775559589,0.001218026796589525,0.00047596382674916705,0.00013839553443742217,0.00027063599458728013,0.005813953488372093,0.0004158004158004158,0.005813953488372093,0.0014064697609001407,0.006966434452184927,0.0004158004158004158,0.001736111111111111,0.001736111111111111,0.00243605359317905,3.209345614429218e-05,0.009548611111111112,0.004780652418447694,0.03488372093023256,0.03046168491194669,0.05642361111111111,0.018132611637347768,0.018944519621109608,0.014732593340060544,0.023340832395950507,0.06047819971870605,0.02530933633295838,0.02530933633295838,0.038632045598480054,0.06269791006966434,0.023076923076923078,0.07320024198427103,0.033558863328822734,0.10337552742616034,0.11373260738052027,0.13426219126029132,0.06467941507311586,0.08717660292463442,0.3029513888888889,0.07172995780590717,0.003247631935047361,0.016238159675236806,0.06942752740560293,0.015834348355663823,0.0049504950495049506,0.011251758087201125,0.0044994375703037125,0.00028121484814398203,0.008567348881485007,0.010889292196007259,0.05232558139534884,0.0010647836807890607,0.04149085794655415,0.05813953488372093,0.0070365358592692825,0.0058212058212058215,0.009282178217821782,0.018148820326678767,0.09011627906976744,0.125,0.043402777777777776,0.15988372093023256,0.03546548448385054,0.010947168015230843,0.0029069767441860465],\"zmax\":1,\"zmin\":0,\"type\":\"heatmap\",\"xaxis\":\"x2\",\"yaxis\":\"y2\"},{\"colorscale\":[[0.0,\"white\"],[0.3333333333333333,\"#A7A7A7\"],[0.6666666666666666,\"#7B7B7B\"],[1.0,\"#666666\"]],\"showscale\":false,\"text\":[147,747,1983,1133,3174,2706,1009,31158,21659,4658,3335,17821,4863,1279,656,5,4,4,3,3,3,3,6,4,6,8,7,7,7,8,3,9,9,9,10,7,3,2,3,1,1,1,1,1,1,1,1,1,3,1,2,2,2,2,11,2,2,2,2,1,11,17,12,64,65,67,70,73,83,86,90,90,61,99,111,121,124,147,188,212,230,310,349,102,12,60,57,13,16,16,16,1,18,18,18,19,59,20,26,28,30,30,31,43,50,55,56,23,1],\"textfont\":{\"size\":7},\"texttemplate\":\"%{text}\",\"x\":[2,3,4,5,6,7,8,9,10,11,12,13,14,15,16,12,16,3,8,13,16,8,13,14,12,11,2,4,5,3,4,3,5,10,5,15,9,12,7,5,16,13,15,2,11,2,14,2,2,2,14,15,13,3,2,2,14,7,8,7,12,16,3,8,15,15,13,15,2,7,5,8,4,6,16,12,11,5,14,8,6,9,11,4,16,10,13,4,2,6,4,10,14,11,4,12,9,6,14,12,7,16,12,5,6,7,7,5,10],\"y\":[\"1st-4th\",\"5th-6th\",\"7th-8th\",\"9th\",\"10th\",\"11th\",\"12th\",\"HS-grad\",\"Some-college\",\"Assoc-voc\",\"Assoc-acdm\",\"Bachelors\",\"Masters\",\"Prof-school\",\"Doctorate\",\"Masters\",\"Masters\",\"9th\",\"1st-4th\",\"Masters\",\"1st-4th\",\"10th\",\"Prof-school\",\"Bachelors\",\"Some-college\",\"Some-college\",\"Doctorate\",\"Masters\",\"Prof-school\",\"11th\",\"Prof-school\",\"7th-8th\",\"10th\",\"Assoc-voc\",\"Doctorate\",\"1st-4th\",\"9th\",\"11th\",\"7th-8th\",\"5th-6th\",\"Some-college\",\"11th\",\"11th\",\"12th\",\"11th\",\"Prof-school\",\"5th-6th\",\"7th-8th\",\"Some-college\",\"Assoc-acdm\",\"1st-4th\",\"Assoc-voc\",\"1st-4th\",\"12th\",\"9th\",\"Assoc-voc\",\"Doctorate\",\"Doctorate\",\"5th-6th\",\"HS-grad\",\"Doctorate\",\"11th\",\"1st-4th\",\"7th-8th\",\"Doctorate\",\"Assoc-acdm\",\"Assoc-acdm\",\"Masters\",\"11th\",\"12th\",\"11th\",\"11th\",\"9th\",\"9th\",\"Assoc-voc\",\"Prof-school\",\"Assoc-acdm\",\"12th\",\"Prof-school\",\"9th\",\"11th\",\"11th\",\"Doctorate\",\"12th\",\"Assoc-acdm\",\"Assoc-acdm\",\"5th-6th\",\"5th-6th\",\"10th\",\"12th\",\"11th\",\"11th\",\"7th-8th\",\"Prof-school\",\"1st-4th\",\"Bachelors\",\"12th\",\"1st-4th\",\"Assoc-acdm\",\"Assoc-voc\",\"10th\",\"Prof-school\",\"1st-4th\",\"1st-4th\",\"Doctorate\",\"1st-4th\",\"9th\",\"7th-8th\",\"1st-4th\"],\"z\":[0.4273255813953488,0.9098660170523751,0.9438362684435982,0.7175427485750475,0.9820544554455446,0.7609673790776152,0.709563994374121,0.9999679065438557,0.9991696267933755,0.9683991683991684,0.9025710419485792,0.9987110513337817,0.9814328960645813,0.7737447065940714,0.5694444444444444,0.0010090817356205853,0.0008072653884964682,0.00253324889170361,0.00872093023255814,0.0006054490413723512,0.00872093023255814,0.0009282178217821782,0.003629764065335753,0.00022416498542927594,0.00027679106887484433,0.0003690547584997924,0.006076388888888889,0.0014127144298688194,0.004234724742891712,0.0022497187851518562,0.0018148820326678765,0.004283674440742504,0.0027846534653465345,0.0018711018711018712,0.008680555555555556,0.020348837209302327,0.0018999366687777073,0.0005624296962879641,0.0014278914802475012,0.001218026796589525,4.613184481247405e-05,0.00028121484814398203,0.00028121484814398203,0.0007032348804500703,0.00028121484814398203,0.0006049606775559589,0.001218026796589525,0.00047596382674916705,0.00013839553443742217,0.00027063599458728013,0.005813953488372093,0.0004158004158004158,0.005813953488372093,0.0014064697609001407,0.006966434452184927,0.0004158004158004158,0.001736111111111111,0.001736111111111111,0.00243605359317905,3.209345614429218e-05,0.009548611111111112,0.004780652418447694,0.03488372093023256,0.03046168491194669,0.05642361111111111,0.018132611637347768,0.018944519621109608,0.014732593340060544,0.023340832395950507,0.06047819971870605,0.02530933633295838,0.02530933633295838,0.038632045598480054,0.06269791006966434,0.023076923076923078,0.07320024198427103,0.033558863328822734,0.10337552742616034,0.11373260738052027,0.13426219126029132,0.06467941507311586,0.08717660292463442,0.3029513888888889,0.07172995780590717,0.003247631935047361,0.016238159675236806,0.06942752740560293,0.015834348355663823,0.0049504950495049506,0.011251758087201125,0.0044994375703037125,0.00028121484814398203,0.008567348881485007,0.010889292196007259,0.05232558139534884,0.0010647836807890607,0.04149085794655415,0.05813953488372093,0.0070365358592692825,0.0058212058212058215,0.009282178217821782,0.018148820326678767,0.09011627906976744,0.125,0.043402777777777776,0.15988372093023256,0.03546548448385054,0.010947168015230843,0.0029069767441860465],\"zmax\":1,\"zmin\":0,\"type\":\"heatmap\",\"xaxis\":\"x3\",\"yaxis\":\"y3\"},{\"colorscale\":[[0.0,\"white\"],[0.3333333333333333,\"#A7A7A7\"],[0.6666666666666666,\"#7B7B7B\"],[1.0,\"#666666\"]],\"showscale\":false,\"text\":[147,747,1983,1133,3174,2706,1009,31158,21659,4658,3335,17821,4863,1279,656,5,4,4,3,3,3,3,6,4,6,8,7,7,7,8,3,9,9,9,10,7,3,2,3,1,1,1,1,1,1,1,1,1,3,1,2,2,2,2,11,2,2,2,2,1,11,17,12,64,65,67,70,73,83,86,90,90,61,99,111,121,124,147,188,212,230,310,349,102,12,60,57,13,16,16,16,1,18,18,18,19,59,20,26,28,30,30,31,43,50,55,56,23,1],\"textfont\":{\"size\":7},\"texttemplate\":\"%{text}\",\"x\":[2,3,4,5,6,7,8,9,10,11,12,13,14,15,16,12,16,3,8,13,16,8,13,14,12,11,2,4,5,3,4,3,5,10,5,15,9,12,7,5,16,13,15,2,11,2,14,2,2,2,14,15,13,3,2,2,14,7,8,7,12,16,3,8,15,15,13,15,2,7,5,8,4,6,16,12,11,5,14,8,6,9,11,4,16,10,13,4,2,6,4,10,14,11,4,12,9,6,14,12,7,16,12,5,6,7,7,5,10],\"y\":[\"1st-4th\",\"5th-6th\",\"7th-8th\",\"9th\",\"10th\",\"11th\",\"12th\",\"HS-grad\",\"Some-college\",\"Assoc-voc\",\"Assoc-acdm\",\"Bachelors\",\"Masters\",\"Prof-school\",\"Doctorate\",\"Masters\",\"Masters\",\"9th\",\"1st-4th\",\"Masters\",\"1st-4th\",\"10th\",\"Prof-school\",\"Bachelors\",\"Some-college\",\"Some-college\",\"Doctorate\",\"Masters\",\"Prof-school\",\"11th\",\"Prof-school\",\"7th-8th\",\"10th\",\"Assoc-voc\",\"Doctorate\",\"1st-4th\",\"9th\",\"11th\",\"7th-8th\",\"5th-6th\",\"Some-college\",\"11th\",\"11th\",\"12th\",\"11th\",\"Prof-school\",\"5th-6th\",\"7th-8th\",\"Some-college\",\"Assoc-acdm\",\"1st-4th\",\"Assoc-voc\",\"1st-4th\",\"12th\",\"9th\",\"Assoc-voc\",\"Doctorate\",\"Doctorate\",\"5th-6th\",\"HS-grad\",\"Doctorate\",\"11th\",\"1st-4th\",\"7th-8th\",\"Doctorate\",\"Assoc-acdm\",\"Assoc-acdm\",\"Masters\",\"11th\",\"12th\",\"11th\",\"11th\",\"9th\",\"9th\",\"Assoc-voc\",\"Prof-school\",\"Assoc-acdm\",\"12th\",\"Prof-school\",\"9th\",\"11th\",\"11th\",\"Doctorate\",\"12th\",\"Assoc-acdm\",\"Assoc-acdm\",\"5th-6th\",\"5th-6th\",\"10th\",\"12th\",\"11th\",\"11th\",\"7th-8th\",\"Prof-school\",\"1st-4th\",\"Bachelors\",\"12th\",\"1st-4th\",\"Assoc-acdm\",\"Assoc-voc\",\"10th\",\"Prof-school\",\"1st-4th\",\"1st-4th\",\"Doctorate\",\"1st-4th\",\"9th\",\"7th-8th\",\"1st-4th\"],\"z\":[0.4273255813953488,0.9098660170523751,0.9438362684435982,0.7175427485750475,0.9820544554455446,0.7609673790776152,0.709563994374121,0.9999679065438557,0.9991696267933755,0.9683991683991684,0.9025710419485792,0.9987110513337817,0.9814328960645813,0.7737447065940714,0.5694444444444444,0.0010090817356205853,0.0008072653884964682,0.00253324889170361,0.00872093023255814,0.0006054490413723512,0.00872093023255814,0.0009282178217821782,0.003629764065335753,0.00022416498542927594,0.00027679106887484433,0.0003690547584997924,0.006076388888888889,0.0014127144298688194,0.004234724742891712,0.0022497187851518562,0.0018148820326678765,0.004283674440742504,0.0027846534653465345,0.0018711018711018712,0.008680555555555556,0.020348837209302327,0.0018999366687777073,0.0005624296962879641,0.0014278914802475012,0.001218026796589525,4.613184481247405e-05,0.00028121484814398203,0.00028121484814398203,0.0007032348804500703,0.00028121484814398203,0.0006049606775559589,0.001218026796589525,0.00047596382674916705,0.00013839553443742217,0.00027063599458728013,0.005813953488372093,0.0004158004158004158,0.005813953488372093,0.0014064697609001407,0.006966434452184927,0.0004158004158004158,0.001736111111111111,0.001736111111111111,0.00243605359317905,3.209345614429218e-05,0.009548611111111112,0.004780652418447694,0.03488372093023256,0.03046168491194669,0.05642361111111111,0.018132611637347768,0.018944519621109608,0.014732593340060544,0.023340832395950507,0.06047819971870605,0.02530933633295838,0.02530933633295838,0.038632045598480054,0.06269791006966434,0.023076923076923078,0.07320024198427103,0.033558863328822734,0.10337552742616034,0.11373260738052027,0.13426219126029132,0.06467941507311586,0.08717660292463442,0.3029513888888889,0.07172995780590717,0.003247631935047361,0.016238159675236806,0.06942752740560293,0.015834348355663823,0.0049504950495049506,0.011251758087201125,0.0044994375703037125,0.00028121484814398203,0.008567348881485007,0.010889292196007259,0.05232558139534884,0.0010647836807890607,0.04149085794655415,0.05813953488372093,0.0070365358592692825,0.0058212058212058215,0.009282178217821782,0.018148820326678767,0.09011627906976744,0.125,0.043402777777777776,0.15988372093023256,0.03546548448385054,0.010947168015230843,0.0029069767441860465],\"zmax\":1,\"zmin\":0,\"type\":\"heatmap\",\"xaxis\":\"x4\",\"yaxis\":\"y4\"}],                        {\"autosize\":false,\"height\":900,\"margin\":{\"b\":10,\"l\":10,\"pad\":5,\"r\":10,\"t\":80},\"plot_bgcolor\":\"rgba(0,0,0,0)\",\"showlegend\":false,\"title\":{\"text\":\"education ~ education-num\"},\"width\":1100,\"template\":{\"data\":{\"bar\":[{\"error_x\":{\"color\":\"#2a3f5f\"},\"error_y\":{\"color\":\"#2a3f5f\"},\"marker\":{\"line\":{\"color\":\"#E5ECF6\",\"width\":0.5},\"pattern\":{\"fillmode\":\"overlay\",\"size\":10,\"solidity\":0.2}},\"type\":\"bar\"}],\"barpolar\":[{\"marker\":{\"line\":{\"color\":\"#E5ECF6\",\"width\":0.5},\"pattern\":{\"fillmode\":\"overlay\",\"size\":10,\"solidity\":0.2}},\"type\":\"barpolar\"}],\"carpet\":[{\"aaxis\":{\"endlinecolor\":\"#2a3f5f\",\"gridcolor\":\"white\",\"linecolor\":\"white\",\"minorgridcolor\":\"white\",\"startlinecolor\":\"#2a3f5f\"},\"baxis\":{\"endlinecolor\":\"#2a3f5f\",\"gridcolor\":\"white\",\"linecolor\":\"white\",\"minorgridcolor\":\"white\",\"startlinecolor\":\"#2a3f5f\"},\"type\":\"carpet\"}],\"choropleth\":[{\"colorbar\":{\"outlinewidth\":0,\"ticks\":\"\"},\"type\":\"choropleth\"}],\"contour\":[{\"colorbar\":{\"outlinewidth\":0,\"ticks\":\"\"},\"colorscale\":[[0.0,\"#0d0887\"],[0.1111111111111111,\"#46039f\"],[0.2222222222222222,\"#7201a8\"],[0.3333333333333333,\"#9c179e\"],[0.4444444444444444,\"#bd3786\"],[0.5555555555555556,\"#d8576b\"],[0.6666666666666666,\"#ed7953\"],[0.7777777777777778,\"#fb9f3a\"],[0.8888888888888888,\"#fdca26\"],[1.0,\"#f0f921\"]],\"type\":\"contour\"}],\"contourcarpet\":[{\"colorbar\":{\"outlinewidth\":0,\"ticks\":\"\"},\"type\":\"contourcarpet\"}],\"heatmap\":[{\"colorbar\":{\"outlinewidth\":0,\"ticks\":\"\"},\"colorscale\":[[0.0,\"#0d0887\"],[0.1111111111111111,\"#46039f\"],[0.2222222222222222,\"#7201a8\"],[0.3333333333333333,\"#9c179e\"],[0.4444444444444444,\"#bd3786\"],[0.5555555555555556,\"#d8576b\"],[0.6666666666666666,\"#ed7953\"],[0.7777777777777778,\"#fb9f3a\"],[0.8888888888888888,\"#fdca26\"],[1.0,\"#f0f921\"]],\"type\":\"heatmap\"}],\"heatmapgl\":[{\"colorbar\":{\"outlinewidth\":0,\"ticks\":\"\"},\"colorscale\":[[0.0,\"#0d0887\"],[0.1111111111111111,\"#46039f\"],[0.2222222222222222,\"#7201a8\"],[0.3333333333333333,\"#9c179e\"],[0.4444444444444444,\"#bd3786\"],[0.5555555555555556,\"#d8576b\"],[0.6666666666666666,\"#ed7953\"],[0.7777777777777778,\"#fb9f3a\"],[0.8888888888888888,\"#fdca26\"],[1.0,\"#f0f921\"]],\"type\":\"heatmapgl\"}],\"histogram\":[{\"marker\":{\"pattern\":{\"fillmode\":\"overlay\",\"size\":10,\"solidity\":0.2}},\"type\":\"histogram\"}],\"histogram2d\":[{\"colorbar\":{\"outlinewidth\":0,\"ticks\":\"\"},\"colorscale\":[[0.0,\"#0d0887\"],[0.1111111111111111,\"#46039f\"],[0.2222222222222222,\"#7201a8\"],[0.3333333333333333,\"#9c179e\"],[0.4444444444444444,\"#bd3786\"],[0.5555555555555556,\"#d8576b\"],[0.6666666666666666,\"#ed7953\"],[0.7777777777777778,\"#fb9f3a\"],[0.8888888888888888,\"#fdca26\"],[1.0,\"#f0f921\"]],\"type\":\"histogram2d\"}],\"histogram2dcontour\":[{\"colorbar\":{\"outlinewidth\":0,\"ticks\":\"\"},\"colorscale\":[[0.0,\"#0d0887\"],[0.1111111111111111,\"#46039f\"],[0.2222222222222222,\"#7201a8\"],[0.3333333333333333,\"#9c179e\"],[0.4444444444444444,\"#bd3786\"],[0.5555555555555556,\"#d8576b\"],[0.6666666666666666,\"#ed7953\"],[0.7777777777777778,\"#fb9f3a\"],[0.8888888888888888,\"#fdca26\"],[1.0,\"#f0f921\"]],\"type\":\"histogram2dcontour\"}],\"mesh3d\":[{\"colorbar\":{\"outlinewidth\":0,\"ticks\":\"\"},\"type\":\"mesh3d\"}],\"parcoords\":[{\"line\":{\"colorbar\":{\"outlinewidth\":0,\"ticks\":\"\"}},\"type\":\"parcoords\"}],\"pie\":[{\"automargin\":true,\"type\":\"pie\"}],\"scatter\":[{\"marker\":{\"colorbar\":{\"outlinewidth\":0,\"ticks\":\"\"}},\"type\":\"scatter\"}],\"scatter3d\":[{\"line\":{\"colorbar\":{\"outlinewidth\":0,\"ticks\":\"\"}},\"marker\":{\"colorbar\":{\"outlinewidth\":0,\"ticks\":\"\"}},\"type\":\"scatter3d\"}],\"scattercarpet\":[{\"marker\":{\"colorbar\":{\"outlinewidth\":0,\"ticks\":\"\"}},\"type\":\"scattercarpet\"}],\"scattergeo\":[{\"marker\":{\"colorbar\":{\"outlinewidth\":0,\"ticks\":\"\"}},\"type\":\"scattergeo\"}],\"scattergl\":[{\"marker\":{\"colorbar\":{\"outlinewidth\":0,\"ticks\":\"\"}},\"type\":\"scattergl\"}],\"scattermapbox\":[{\"marker\":{\"colorbar\":{\"outlinewidth\":0,\"ticks\":\"\"}},\"type\":\"scattermapbox\"}],\"scatterpolar\":[{\"marker\":{\"colorbar\":{\"outlinewidth\":0,\"ticks\":\"\"}},\"type\":\"scatterpolar\"}],\"scatterpolargl\":[{\"marker\":{\"colorbar\":{\"outlinewidth\":0,\"ticks\":\"\"}},\"type\":\"scatterpolargl\"}],\"scatterternary\":[{\"marker\":{\"colorbar\":{\"outlinewidth\":0,\"ticks\":\"\"}},\"type\":\"scatterternary\"}],\"surface\":[{\"colorbar\":{\"outlinewidth\":0,\"ticks\":\"\"},\"colorscale\":[[0.0,\"#0d0887\"],[0.1111111111111111,\"#46039f\"],[0.2222222222222222,\"#7201a8\"],[0.3333333333333333,\"#9c179e\"],[0.4444444444444444,\"#bd3786\"],[0.5555555555555556,\"#d8576b\"],[0.6666666666666666,\"#ed7953\"],[0.7777777777777778,\"#fb9f3a\"],[0.8888888888888888,\"#fdca26\"],[1.0,\"#f0f921\"]],\"type\":\"surface\"}],\"table\":[{\"cells\":{\"fill\":{\"color\":\"#EBF0F8\"},\"line\":{\"color\":\"white\"}},\"header\":{\"fill\":{\"color\":\"#C8D4E3\"},\"line\":{\"color\":\"white\"}},\"type\":\"table\"}]},\"layout\":{\"annotationdefaults\":{\"arrowcolor\":\"#2a3f5f\",\"arrowhead\":0,\"arrowwidth\":1},\"autotypenumbers\":\"strict\",\"coloraxis\":{\"colorbar\":{\"outlinewidth\":0,\"ticks\":\"\"}},\"colorscale\":{\"diverging\":[[0,\"#8e0152\"],[0.1,\"#c51b7d\"],[0.2,\"#de77ae\"],[0.3,\"#f1b6da\"],[0.4,\"#fde0ef\"],[0.5,\"#f7f7f7\"],[0.6,\"#e6f5d0\"],[0.7,\"#b8e186\"],[0.8,\"#7fbc41\"],[0.9,\"#4d9221\"],[1,\"#276419\"]],\"sequential\":[[0.0,\"#0d0887\"],[0.1111111111111111,\"#46039f\"],[0.2222222222222222,\"#7201a8\"],[0.3333333333333333,\"#9c179e\"],[0.4444444444444444,\"#bd3786\"],[0.5555555555555556,\"#d8576b\"],[0.6666666666666666,\"#ed7953\"],[0.7777777777777778,\"#fb9f3a\"],[0.8888888888888888,\"#fdca26\"],[1.0,\"#f0f921\"]],\"sequentialminus\":[[0.0,\"#0d0887\"],[0.1111111111111111,\"#46039f\"],[0.2222222222222222,\"#7201a8\"],[0.3333333333333333,\"#9c179e\"],[0.4444444444444444,\"#bd3786\"],[0.5555555555555556,\"#d8576b\"],[0.6666666666666666,\"#ed7953\"],[0.7777777777777778,\"#fb9f3a\"],[0.8888888888888888,\"#fdca26\"],[1.0,\"#f0f921\"]]},\"colorway\":[\"#636efa\",\"#EF553B\",\"#00cc96\",\"#ab63fa\",\"#FFA15A\",\"#19d3f3\",\"#FF6692\",\"#B6E880\",\"#FF97FF\",\"#FECB52\"],\"font\":{\"color\":\"#2a3f5f\"},\"geo\":{\"bgcolor\":\"white\",\"lakecolor\":\"white\",\"landcolor\":\"#E5ECF6\",\"showlakes\":true,\"showland\":true,\"subunitcolor\":\"white\"},\"hoverlabel\":{\"align\":\"left\"},\"hovermode\":\"closest\",\"mapbox\":{\"style\":\"light\"},\"paper_bgcolor\":\"white\",\"plot_bgcolor\":\"#E5ECF6\",\"polar\":{\"angularaxis\":{\"gridcolor\":\"white\",\"linecolor\":\"white\",\"ticks\":\"\"},\"bgcolor\":\"#E5ECF6\",\"radialaxis\":{\"gridcolor\":\"white\",\"linecolor\":\"white\",\"ticks\":\"\"}},\"scene\":{\"xaxis\":{\"backgroundcolor\":\"#E5ECF6\",\"gridcolor\":\"white\",\"gridwidth\":2,\"linecolor\":\"white\",\"showbackground\":true,\"ticks\":\"\",\"zerolinecolor\":\"white\"},\"yaxis\":{\"backgroundcolor\":\"#E5ECF6\",\"gridcolor\":\"white\",\"gridwidth\":2,\"linecolor\":\"white\",\"showbackground\":true,\"ticks\":\"\",\"zerolinecolor\":\"white\"},\"zaxis\":{\"backgroundcolor\":\"#E5ECF6\",\"gridcolor\":\"white\",\"gridwidth\":2,\"linecolor\":\"white\",\"showbackground\":true,\"ticks\":\"\",\"zerolinecolor\":\"white\"}},\"shapedefaults\":{\"line\":{\"color\":\"#2a3f5f\"}},\"ternary\":{\"aaxis\":{\"gridcolor\":\"white\",\"linecolor\":\"white\",\"ticks\":\"\"},\"baxis\":{\"gridcolor\":\"white\",\"linecolor\":\"white\",\"ticks\":\"\"},\"bgcolor\":\"#E5ECF6\",\"caxis\":{\"gridcolor\":\"white\",\"linecolor\":\"white\",\"ticks\":\"\"}},\"title\":{\"x\":0.05},\"xaxis\":{\"automargin\":true,\"gridcolor\":\"white\",\"linecolor\":\"white\",\"ticks\":\"\",\"title\":{\"standoff\":15},\"zerolinecolor\":\"white\",\"zerolinewidth\":2},\"yaxis\":{\"automargin\":true,\"gridcolor\":\"white\",\"linecolor\":\"white\",\"ticks\":\"\",\"title\":{\"standoff\":15},\"zerolinecolor\":\"white\",\"zerolinewidth\":2}}},\"xaxis\":{\"anchor\":\"y\",\"domain\":[0.0,0.475],\"matches\":\"x3\",\"showticklabels\":true,\"tickangle\":0,\"type\":\"category\"},\"yaxis\":{\"anchor\":\"x\",\"domain\":[0.55,1.0]},\"xaxis2\":{\"anchor\":\"y2\",\"domain\":[0.525,1.0],\"matches\":\"x4\",\"showticklabels\":true,\"tickangle\":0,\"type\":\"category\"},\"yaxis2\":{\"anchor\":\"x2\",\"domain\":[0.55,1.0],\"matches\":\"y\",\"showticklabels\":false},\"xaxis3\":{\"anchor\":\"y3\",\"domain\":[0.0,0.475],\"tickangle\":0,\"showticklabels\":true,\"type\":\"category\"},\"yaxis3\":{\"anchor\":\"x3\",\"domain\":[0.0,0.45]},\"xaxis4\":{\"anchor\":\"y4\",\"domain\":[0.525,1.0],\"tickangle\":0,\"showticklabels\":true,\"type\":\"category\"},\"yaxis4\":{\"anchor\":\"x4\",\"domain\":[0.0,0.45],\"matches\":\"y3\",\"showticklabels\":false},\"annotations\":[{\"font\":{\"size\":16},\"showarrow\":false,\"text\":\"target\",\"x\":0.2375,\"xanchor\":\"center\",\"xref\":\"paper\",\"y\":1.0,\"yanchor\":\"bottom\",\"yref\":\"paper\"},{\"font\":{\"size\":16},\"showarrow\":false,\"text\":\"synthetic w/o rules\",\"x\":0.7625,\"xanchor\":\"center\",\"xref\":\"paper\",\"y\":1.0,\"yanchor\":\"bottom\",\"yref\":\"paper\"},{\"font\":{\"size\":16},\"showarrow\":false,\"text\":\"synthetic w/ loss component\",\"x\":0.2375,\"xanchor\":\"center\",\"xref\":\"paper\",\"y\":0.45,\"yanchor\":\"bottom\",\"yref\":\"paper\"},{\"font\":{\"size\":16},\"showarrow\":false,\"text\":\"synthetic w/ rule adherence\",\"x\":0.7625,\"xanchor\":\"center\",\"xref\":\"paper\",\"y\":0.45,\"yanchor\":\"bottom\",\"yref\":\"paper\"}]},                        {\"responsive\": true}                    ).then(function(){\n",
       "                            \n",
       "var gd = document.getElementById('a28a7df4-4feb-47fe-b05d-e093e24165e1');\n",
       "var x = new MutationObserver(function (mutations, observer) {{\n",
       "        var display = window.getComputedStyle(gd).display;\n",
       "        if (!display || display === 'none') {{\n",
       "            console.log([gd, 'removed!']);\n",
       "            Plotly.purge(gd);\n",
       "            observer.disconnect();\n",
       "        }}\n",
       "}});\n",
       "\n",
       "// Listen for the removal of the full notebook cells\n",
       "var notebookContainer = gd.closest('#notebook-container');\n",
       "if (notebookContainer) {{\n",
       "    x.observe(notebookContainer, {childList: true});\n",
       "}}\n",
       "\n",
       "// Listen for the clearing of the current output cell\n",
       "var outputEl = gd.closest('.output');\n",
       "if (outputEl) {{\n",
       "    x.observe(outputEl, {childList: true});\n",
       "}}\n",
       "\n",
       "                        })                };                });            </script>        </div>"
      ]
     },
     "metadata": {},
     "output_type": "display_data"
    }
   ],
   "source": [
    "layout = go.Layout(\n",
    "    title='education ~ education-num',\n",
    "    plot_bgcolor=\"rgba(0,0,0,0)\",\n",
    "    autosize=False,\n",
    "    height=900,\n",
    "    width=1100,\n",
    "    margin=dict(l=10, r=10, b=10, t=80, pad=5),\n",
    "    showlegend=False,\n",
    ")\n",
    "fig = go.Figure(layout=layout).set_subplots(\n",
    "    rows=2,\n",
    "    cols=2,\n",
    "    horizontal_spacing=0.05,\n",
    "    vertical_spacing=0.10,\n",
    "    shared_yaxes=True,\n",
    "    shared_xaxes=True,\n",
    "    subplot_titles=(\"target\", \n",
    "                    \"synthetic w/o rules\", \n",
    "                    \"synthetic w/ loss component\", \n",
    "                    \"synthetic w/ rule adherence\"),\n",
    ")\n",
    "\n",
    "def heat(data):\n",
    "    df = data[['education', 'education-num']].value_counts().to_frame('cnt').reset_index()\n",
    "    df = pd.merge(df, edu, how='left', on=['education', 'education-num']).fillna(1000).sort_values('sort_idx')\n",
    "    df[\"share_by_row\"] = df[\"cnt\"] / df.groupby(\"education\")[\"cnt\"].transform(\"sum\")\n",
    "    df[\"text\"] = (df[[\"share_by_row\"]] * 100).round(1)\n",
    "    heat = go.Heatmap(\n",
    "        x=df[\"education-num\"],\n",
    "        y=df[\"education\"],\n",
    "        z=df[\"share_by_row\"],\n",
    "        text=df[\"cnt\"],\n",
    "        texttemplate=\"%{text}\",\n",
    "        textfont={\"size\": 7},\n",
    "        zmin=0,\n",
    "        zmax=1,\n",
    "        colorscale=[\"white\", \"#A7A7A7\", \"#7B7B7B\", \"#666666\"],\n",
    "        showscale=False,\n",
    "    )\n",
    "    return heat\n",
    "\n",
    "fig.add_trace(heat(tgt), row=1, col=1)\n",
    "fig.add_trace(heat(syn), row=1, col=2)\n",
    "fig.add_trace(heat(syn_trn), row=2, col=1)\n",
    "fig.add_trace(heat(syn_gen), row=2, col=2)\n",
    "fig.update_xaxes(tickangle=0, showticklabels = True, type = 'category')\n",
    "fig.write_image(\"adult_education.png\")\n",
    "fig"
   ]
  },
  {
   "cell_type": "code",
   "execution_count": 13,
   "id": "c3733d49-d8d3-47c4-a376-3c94efa0663a",
   "metadata": {},
   "outputs": [
    {
     "data": {
      "text/html": [
       "<div>\n",
       "<style scoped>\n",
       "    .dataframe tbody tr th:only-of-type {\n",
       "        vertical-align: middle;\n",
       "    }\n",
       "\n",
       "    .dataframe tbody tr th {\n",
       "        vertical-align: top;\n",
       "    }\n",
       "\n",
       "    .dataframe thead th {\n",
       "        text-align: right;\n",
       "    }\n",
       "</style>\n",
       "<table border=\"1\" class=\"dataframe\">\n",
       "  <thead>\n",
       "    <tr style=\"text-align: right;\">\n",
       "      <th></th>\n",
       "      <th>age</th>\n",
       "      <th>workclass</th>\n",
       "      <th>fnlwgt</th>\n",
       "      <th>education</th>\n",
       "      <th>education-num</th>\n",
       "      <th>marital-status</th>\n",
       "      <th>occupation</th>\n",
       "      <th>relationship</th>\n",
       "      <th>race</th>\n",
       "      <th>sex</th>\n",
       "      <th>capital-gain</th>\n",
       "      <th>capital-loss</th>\n",
       "      <th>hours-per-week</th>\n",
       "      <th>native-country</th>\n",
       "      <th>income</th>\n",
       "    </tr>\n",
       "  </thead>\n",
       "  <tbody>\n",
       "    <tr>\n",
       "      <th>0</th>\n",
       "      <td>23</td>\n",
       "      <td>Private</td>\n",
       "      <td>156513</td>\n",
       "      <td>HS-grad</td>\n",
       "      <td>9</td>\n",
       "      <td>Never-married</td>\n",
       "      <td>Handlers-cleaners</td>\n",
       "      <td>Own-child</td>\n",
       "      <td>Black</td>\n",
       "      <td>Male</td>\n",
       "      <td>0</td>\n",
       "      <td>0</td>\n",
       "      <td>40</td>\n",
       "      <td>United-States</td>\n",
       "      <td>&lt;=50K</td>\n",
       "    </tr>\n",
       "    <tr>\n",
       "      <th>1</th>\n",
       "      <td>22</td>\n",
       "      <td>Private</td>\n",
       "      <td>242138</td>\n",
       "      <td>HS-grad</td>\n",
       "      <td>9</td>\n",
       "      <td>Married-civ-spouse</td>\n",
       "      <td>Adm-clerical</td>\n",
       "      <td>Wife</td>\n",
       "      <td>White</td>\n",
       "      <td>Female</td>\n",
       "      <td>0</td>\n",
       "      <td>0</td>\n",
       "      <td>40</td>\n",
       "      <td>United-States</td>\n",
       "      <td>&lt;=50K</td>\n",
       "    </tr>\n",
       "    <tr>\n",
       "      <th>2</th>\n",
       "      <td>32</td>\n",
       "      <td>Local-gov</td>\n",
       "      <td>32587</td>\n",
       "      <td>HS-grad</td>\n",
       "      <td>9</td>\n",
       "      <td>Divorced</td>\n",
       "      <td>Other-service</td>\n",
       "      <td>Not-in-family</td>\n",
       "      <td>Amer-Indian-Eskimo</td>\n",
       "      <td>Male</td>\n",
       "      <td>0</td>\n",
       "      <td>0</td>\n",
       "      <td>40</td>\n",
       "      <td>United-States</td>\n",
       "      <td>&lt;=50K</td>\n",
       "    </tr>\n",
       "    <tr>\n",
       "      <th>3</th>\n",
       "      <td>22</td>\n",
       "      <td>Private</td>\n",
       "      <td>83315</td>\n",
       "      <td>HS-grad</td>\n",
       "      <td>9</td>\n",
       "      <td>Never-married</td>\n",
       "      <td>Adm-clerical</td>\n",
       "      <td>Unmarried</td>\n",
       "      <td>White</td>\n",
       "      <td>Male</td>\n",
       "      <td>0</td>\n",
       "      <td>0</td>\n",
       "      <td>40</td>\n",
       "      <td>United-States</td>\n",
       "      <td>&lt;=50K</td>\n",
       "    </tr>\n",
       "    <tr>\n",
       "      <th>4</th>\n",
       "      <td>46</td>\n",
       "      <td>Private</td>\n",
       "      <td>142719</td>\n",
       "      <td>HS-grad</td>\n",
       "      <td>9</td>\n",
       "      <td>Married-spouse-absent</td>\n",
       "      <td>Farming-fishing</td>\n",
       "      <td>Not-in-family</td>\n",
       "      <td>White</td>\n",
       "      <td>Male</td>\n",
       "      <td>0</td>\n",
       "      <td>0</td>\n",
       "      <td>65</td>\n",
       "      <td>United-States</td>\n",
       "      <td>&lt;=50K</td>\n",
       "    </tr>\n",
       "    <tr>\n",
       "      <th>...</th>\n",
       "      <td>...</td>\n",
       "      <td>...</td>\n",
       "      <td>...</td>\n",
       "      <td>...</td>\n",
       "      <td>...</td>\n",
       "      <td>...</td>\n",
       "      <td>...</td>\n",
       "      <td>...</td>\n",
       "      <td>...</td>\n",
       "      <td>...</td>\n",
       "      <td>...</td>\n",
       "      <td>...</td>\n",
       "      <td>...</td>\n",
       "      <td>...</td>\n",
       "      <td>...</td>\n",
       "    </tr>\n",
       "    <tr>\n",
       "      <th>1995</th>\n",
       "      <td>50</td>\n",
       "      <td>Private</td>\n",
       "      <td>94081</td>\n",
       "      <td>HS-grad</td>\n",
       "      <td>9</td>\n",
       "      <td>Married-civ-spouse</td>\n",
       "      <td>Exec-managerial</td>\n",
       "      <td>Husband</td>\n",
       "      <td>White</td>\n",
       "      <td>Male</td>\n",
       "      <td>0</td>\n",
       "      <td>0</td>\n",
       "      <td>40</td>\n",
       "      <td>United-States</td>\n",
       "      <td>&gt;50K</td>\n",
       "    </tr>\n",
       "    <tr>\n",
       "      <th>1996</th>\n",
       "      <td>47</td>\n",
       "      <td>Private</td>\n",
       "      <td>34248</td>\n",
       "      <td>HS-grad</td>\n",
       "      <td>9</td>\n",
       "      <td>Married-civ-spouse</td>\n",
       "      <td>Adm-clerical</td>\n",
       "      <td>Husband</td>\n",
       "      <td>White</td>\n",
       "      <td>Male</td>\n",
       "      <td>0</td>\n",
       "      <td>0</td>\n",
       "      <td>38</td>\n",
       "      <td>United-States</td>\n",
       "      <td>&lt;=50K</td>\n",
       "    </tr>\n",
       "    <tr>\n",
       "      <th>1997</th>\n",
       "      <td>35</td>\n",
       "      <td>Private</td>\n",
       "      <td>185084</td>\n",
       "      <td>HS-grad</td>\n",
       "      <td>9</td>\n",
       "      <td>Married-civ-spouse</td>\n",
       "      <td>Handlers-cleaners</td>\n",
       "      <td>Husband</td>\n",
       "      <td>White</td>\n",
       "      <td>Male</td>\n",
       "      <td>0</td>\n",
       "      <td>0</td>\n",
       "      <td>48</td>\n",
       "      <td>United-States</td>\n",
       "      <td>&gt;50K</td>\n",
       "    </tr>\n",
       "    <tr>\n",
       "      <th>1998</th>\n",
       "      <td>46</td>\n",
       "      <td>Self-emp-inc</td>\n",
       "      <td>216414</td>\n",
       "      <td>Masters</td>\n",
       "      <td>14</td>\n",
       "      <td>Married-civ-spouse</td>\n",
       "      <td>Sales</td>\n",
       "      <td>Husband</td>\n",
       "      <td>White</td>\n",
       "      <td>Male</td>\n",
       "      <td>0</td>\n",
       "      <td>1977</td>\n",
       "      <td>60</td>\n",
       "      <td>United-States</td>\n",
       "      <td>&gt;50K</td>\n",
       "    </tr>\n",
       "    <tr>\n",
       "      <th>1999</th>\n",
       "      <td>30</td>\n",
       "      <td>Federal-gov</td>\n",
       "      <td>266463</td>\n",
       "      <td>HS-grad</td>\n",
       "      <td>9</td>\n",
       "      <td>Married-civ-spouse</td>\n",
       "      <td>Adm-clerical</td>\n",
       "      <td>Husband</td>\n",
       "      <td>White</td>\n",
       "      <td>Male</td>\n",
       "      <td>0</td>\n",
       "      <td>0</td>\n",
       "      <td>40</td>\n",
       "      <td>United-States</td>\n",
       "      <td>&gt;50K</td>\n",
       "    </tr>\n",
       "  </tbody>\n",
       "</table>\n",
       "<p>2000 rows × 15 columns</p>\n",
       "</div>"
      ],
      "text/plain": [
       "      age     workclass  fnlwgt education  education-num  \\\n",
       "0      23       Private  156513   HS-grad              9   \n",
       "1      22       Private  242138   HS-grad              9   \n",
       "2      32     Local-gov   32587   HS-grad              9   \n",
       "3      22       Private   83315   HS-grad              9   \n",
       "4      46       Private  142719   HS-grad              9   \n",
       "...   ...           ...     ...       ...            ...   \n",
       "1995   50       Private   94081   HS-grad              9   \n",
       "1996   47       Private   34248   HS-grad              9   \n",
       "1997   35       Private  185084   HS-grad              9   \n",
       "1998   46  Self-emp-inc  216414   Masters             14   \n",
       "1999   30   Federal-gov  266463   HS-grad              9   \n",
       "\n",
       "             marital-status         occupation   relationship  \\\n",
       "0             Never-married  Handlers-cleaners      Own-child   \n",
       "1        Married-civ-spouse       Adm-clerical           Wife   \n",
       "2                  Divorced      Other-service  Not-in-family   \n",
       "3             Never-married       Adm-clerical      Unmarried   \n",
       "4     Married-spouse-absent    Farming-fishing  Not-in-family   \n",
       "...                     ...                ...            ...   \n",
       "1995     Married-civ-spouse    Exec-managerial        Husband   \n",
       "1996     Married-civ-spouse       Adm-clerical        Husband   \n",
       "1997     Married-civ-spouse  Handlers-cleaners        Husband   \n",
       "1998     Married-civ-spouse              Sales        Husband   \n",
       "1999     Married-civ-spouse       Adm-clerical        Husband   \n",
       "\n",
       "                    race     sex  capital-gain  capital-loss  hours-per-week  \\\n",
       "0                  Black    Male             0             0              40   \n",
       "1                  White  Female             0             0              40   \n",
       "2     Amer-Indian-Eskimo    Male             0             0              40   \n",
       "3                  White    Male             0             0              40   \n",
       "4                  White    Male             0             0              65   \n",
       "...                  ...     ...           ...           ...             ...   \n",
       "1995               White    Male             0             0              40   \n",
       "1996               White    Male             0             0              38   \n",
       "1997               White    Male             0             0              48   \n",
       "1998               White    Male             0          1977              60   \n",
       "1999               White    Male             0             0              40   \n",
       "\n",
       "     native-country income  \n",
       "0     United-States  <=50K  \n",
       "1     United-States  <=50K  \n",
       "2     United-States  <=50K  \n",
       "3     United-States  <=50K  \n",
       "4     United-States  <=50K  \n",
       "...             ...    ...  \n",
       "1995  United-States   >50K  \n",
       "1996  United-States  <=50K  \n",
       "1997  United-States   >50K  \n",
       "1998  United-States   >50K  \n",
       "1999  United-States   >50K  \n",
       "\n",
       "[2000 rows x 15 columns]"
      ]
     },
     "execution_count": 13,
     "metadata": {},
     "output_type": "execute_result"
    }
   ],
   "source": [
    "trn"
   ]
  },
  {
   "cell_type": "code",
   "execution_count": null,
   "id": "94b19b23-29a9-477d-8ccb-3a0722a3f368",
   "metadata": {},
   "outputs": [],
   "source": [
    "# TODO: benchmark AUC for `income`, once trained on target and once on synthetic, evaluated on holdout\n"
   ]
  }
 ],
 "metadata": {
  "kernelspec": {
   "display_name": "Python 3 (ipykernel)",
   "language": "python",
   "name": "python3"
  },
  "language_info": {
   "codemirror_mode": {
    "name": "ipython",
    "version": 3
   },
   "file_extension": ".py",
   "mimetype": "text/x-python",
   "name": "python",
   "nbconvert_exporter": "python",
   "pygments_lexer": "ipython3",
   "version": "3.9.1"
  }
 },
 "nbformat": 4,
 "nbformat_minor": 5
}
